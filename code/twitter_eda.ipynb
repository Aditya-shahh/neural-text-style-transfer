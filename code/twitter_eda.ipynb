{
 "cells": [
  {
   "cell_type": "code",
   "execution_count": 1,
   "metadata": {
    "collapsed": false
   },
   "outputs": [],
   "source": [
    "import numpy as np\n",
    "import json\n",
    "import matplotlib.pyplot as plt\n",
    "from nltk.tokenize import TweetTokenizer\n",
    "from tqdm import tqdm\n",
    "import re\n",
    "import pandas as pd\n",
    "import string\n",
    "\n",
    "plt.style.use(\"fivethirtyeight\")\n",
    "%matplotlib inline"
   ]
  },
  {
   "cell_type": "code",
   "execution_count": 2,
   "metadata": {
    "collapsed": false
   },
   "outputs": [],
   "source": [
    "# Load the data\n",
    "twitter_data_dir = \"../data/authorship_corpora/influencer_tweets.json\"\n",
    "json_data=open(twitter_data_dir).read()\n",
    "twitter_data = json.loads(json_data)"
   ]
  },
  {
   "cell_type": "markdown",
   "metadata": {},
   "source": [
    "## Dataset Details"
   ]
  },
  {
   "cell_type": "code",
   "execution_count": 3,
   "metadata": {
    "collapsed": false
   },
   "outputs": [
    {
     "name": "stdout",
     "output_type": "stream",
     "text": [
      "Number of Tweets: 1004399\n",
      "\n",
      "Number of Influencers: 4391\n",
      "\n",
      "Top Influencers\n",
      "---------------\n",
      "\n",
      "Influencer Twitter ID: AmericanAir\n",
      "# of tweets: 27960\n",
      "\n",
      "Influencer Twitter ID: LonelyOakradio\n",
      "# of tweets: 15204\n",
      "\n",
      "Influencer Twitter ID: DavidPapp\n",
      "# of tweets: 13246\n",
      "\n",
      "Influencer Twitter ID: KLM\n",
      "# of tweets: 6905\n",
      "\n",
      "Influencer Twitter ID: oye_gujju\n",
      "# of tweets: 6302\n",
      "\n",
      "Influencer Twitter ID: thehill\n",
      "# of tweets: 6259\n",
      "\n",
      "Influencer Twitter ID: marshawright\n",
      "# of tweets: 5960\n",
      "\n",
      "Influencer Twitter ID: united\n",
      "# of tweets: 5419\n",
      "\n",
      "Influencer Twitter ID: businessinsider\n",
      "# of tweets: 5387\n",
      "\n",
      "Influencer Twitter ID: BritishVogue\n",
      "# of tweets: 5086\n",
      "\n"
     ]
    }
   ],
   "source": [
    "# How many Tweets\n",
    "print(\"Number of Tweets: {}\".format(len(twitter_data)))\n",
    "print()\n",
    "\n",
    "# How many Users\n",
    "count_ = {}\n",
    "\n",
    "for item in twitter_data:\n",
    "    user = item['user']\n",
    "    if user not in count_.keys():\n",
    "        count_[user] = 1\n",
    "    else:\n",
    "        count_[user] += 1\n",
    "    \n",
    "print(\"Number of Influencers: {}\".format(len(count_.keys())))\n",
    "print()\n",
    "\n",
    "print(\"Top Influencers\")\n",
    "print(\"---------------\")\n",
    "print()\n",
    "# Top influencers\n",
    "for influencer, count in sorted(count_.items(), key=lambda x: x[1], reverse=True)[:10]:\n",
    "    print(\"Influencer Twitter ID: {}\".format(influencer))\n",
    "    print(\"# of tweets: {}\".format(count))\n",
    "    print()"
   ]
  },
  {
   "cell_type": "code",
   "execution_count": null,
   "metadata": {
    "collapsed": false,
    "scrolled": true
   },
   "outputs": [],
   "source": [
    "# Distribution of the length of the tweets\n",
    "char_len = []\n",
    "word_len = []\n",
    "tknzr = TweetTokenizer()\n",
    "\n",
    "# takes 5 mins to run\n",
    "for tweet in tqdm(twitter_data):\n",
    "    words = tknzr.tokenize(tweet['text'].lower())\n",
    "    words = [''.join(c for c in s if c not in list(string.punctuation)) for s in words]\n",
    "    while '' in words:\n",
    "        words.remove('')\n",
    "    char_len.append(len(tweet['text'].lower()))\n",
    "    word_len.append(len(words))"
   ]
  },
  {
   "cell_type": "code",
   "execution_count": null,
   "metadata": {
    "collapsed": true
   },
   "outputs": [],
   "source": [
    "char_len = np.array(char_len)\n",
    "word_len = np.array(word_len)"
   ]
  },
  {
   "cell_type": "code",
   "execution_count": 7,
   "metadata": {
    "collapsed": false
   },
   "outputs": [
    {
     "name": "stdout",
     "output_type": "stream",
     "text": [
      "Mean: 101.00660470445936\n",
      "SD: 32.02788980293797\n",
      "Min: 4\n",
      "25%: 79.0\n",
      "50%: 107.0\n",
      "75%: 129.0\n",
      "Max: 158\n",
      "Prop. below 140 chars: 0.977894133749244\n"
     ]
    },
    {
     "data": {
      "text/plain": [
       "<matplotlib.text.Text at 0x14b6da710>"
      ]
     },
     "execution_count": 7,
     "metadata": {},
     "output_type": "execute_result"
    },
    {
     "data": {
      "image/png": "[encoded data removed]",
      "text/plain": [
       "<matplotlib.figure.Figure at 0x14b754320>"
      ]
     },
     "metadata": {},
     "output_type": "display_data"
    }
   ],
   "source": [
    "# Character Length\n",
    "print(\"Mean: {}\".format(np.mean(char_len)))\n",
    "print(\"SD: {}\".format(np.std(char_len)))\n",
    "print(\"Min: {}\".format(np.min(char_len)))\n",
    "print(\"25%: {}\".format(np.percentile(char_len, 25)))\n",
    "print(\"50%: {}\".format(np.percentile(char_len, 50)))\n",
    "print(\"75%: {}\".format(np.percentile(char_len, 75)))\n",
    "print(\"Max: {}\".format(np.max(char_len)))\n",
    "plt.hist(char_len, bins = np.arange(min(char_len), max(char_len), 20))\n",
    "print(\"Prop. below 140 chars: {}\".format(np.mean(char_len<=140)))\n",
    "plt.title(\"Character Length in dataset\")"
   ]
  },
  {
   "cell_type": "markdown",
   "metadata": {},
   "source": [
    "There seems to be about 3% of the tweets that exceed those 140 character limit. "
   ]
  },
  {
   "cell_type": "code",
   "execution_count": 8,
   "metadata": {
    "collapsed": false
   },
   "outputs": [
    {
     "data": {
      "image/png": "[encoded data removed]",
      "text/plain": [
       "<matplotlib.figure.Figure at 0x14b6c1eb8>"
      ]
     },
     "metadata": {},
     "output_type": "display_data"
    }
   ],
   "source": [
    "plt.hist(char_len[char_len<=140], bins = np.arange(0, 141, 10))\n",
    "plt.title(\"Character Level in Tweets < 140 chars\")\n",
    "tix = plt.xticks(np.arange(0, 141, 10))"
   ]
  },
  {
   "cell_type": "code",
   "execution_count": 9,
   "metadata": {
    "collapsed": false
   },
   "outputs": [
    {
     "name": "stdout",
     "output_type": "stream",
     "text": [
      "Mean: 13.707785593786804\n",
      "SD: 5.316457818599716\n",
      "Min: 1\n",
      "25%: 10.0\n",
      "50%: 14.0\n",
      "75%: 17.0\n",
      "Max: 36\n"
     ]
    },
    {
     "data": {
      "image/png": "[encoded data removed]",
      "text/plain": [
       "<matplotlib.figure.Figure at 0x14b96b5f8>"
      ]
     },
     "metadata": {},
     "output_type": "display_data"
    }
   ],
   "source": [
    "# Word Length\n",
    "print(\"Mean: {}\".format(np.mean(word_len)))\n",
    "print(\"SD: {}\".format(np.std(word_len)))\n",
    "print(\"Min: {}\".format(np.min(word_len)))\n",
    "print(\"25%: {}\".format(np.percentile(word_len, 25)))\n",
    "print(\"50%: {}\".format(np.percentile(word_len, 50)))\n",
    "print(\"75%: {}\".format(np.percentile(word_len, 75)))\n",
    "print(\"Max: {}\".format(np.max(word_len)))\n",
    "plt.hist(char_len, bins = np.arange(min(word_len), max(word_len), 5))\n",
    "plt.title(\"Character Length in dataset\")\n",
    "tix = plt.xticks(np.arange(min(word_len), max(word_len), 5))"
   ]
  },
  {
   "cell_type": "code",
   "execution_count": 5,
   "metadata": {
    "collapsed": false,
    "scrolled": false
   },
   "outputs": [
    {
     "name": "stderr",
     "output_type": "stream",
     "text": [
      "100%|██████████| 1004399/1004399 [00:00<00:00, 1235494.56it/s]\n"
     ]
    },
    {
     "data": {
      "text/html": [
       "<div>\n",
       "<table border=\"1\" class=\"dataframe\">\n",
       "  <thead>\n",
       "    <tr style=\"text-align: right;\">\n",
       "      <th></th>\n",
       "      <th>author</th>\n",
       "      <th>text</th>\n",
       "      <th>char_len</th>\n",
       "      <th>is_response</th>\n",
       "      <th>has_link</th>\n",
       "    </tr>\n",
       "  </thead>\n",
       "  <tbody>\n",
       "    <tr>\n",
       "      <th>0</th>\n",
       "      <td>mattyglesias</td>\n",
       "      <td>@ianmpgray She was already trade critic, right?</td>\n",
       "      <td>47</td>\n",
       "      <td>0</td>\n",
       "      <td>1</td>\n",
       "    </tr>\n",
       "    <tr>\n",
       "      <th>1</th>\n",
       "      <td>GuidoKerkhof</td>\n",
       "      <td>@wadeharman You are very welcome - keep writin...</td>\n",
       "      <td>82</td>\n",
       "      <td>0</td>\n",
       "      <td>1</td>\n",
       "    </tr>\n",
       "    <tr>\n",
       "      <th>2</th>\n",
       "      <td>VirginAmerica</td>\n",
       "      <td>@gambino Hi there, please send us a DM if we c...</td>\n",
       "      <td>56</td>\n",
       "      <td>0</td>\n",
       "      <td>1</td>\n",
       "    </tr>\n",
       "    <tr>\n",
       "      <th>3</th>\n",
       "      <td>CreativeLive</td>\n",
       "      <td>It could be your lucky day! Join @jeremycowart...</td>\n",
       "      <td>96</td>\n",
       "      <td>0</td>\n",
       "      <td>0</td>\n",
       "    </tr>\n",
       "    <tr>\n",
       "      <th>4</th>\n",
       "      <td>sfsignal</td>\n",
       "      <td>The Functional Nerds interview Tina Connolly h...</td>\n",
       "      <td>68</td>\n",
       "      <td>1</td>\n",
       "      <td>0</td>\n",
       "    </tr>\n",
       "  </tbody>\n",
       "</table>\n",
       "</div>"
      ],
      "text/plain": [
       "          author                                               text  char_len  \\\n",
       "0   mattyglesias    @ianmpgray She was already trade critic, right?        47   \n",
       "1   GuidoKerkhof  @wadeharman You are very welcome - keep writin...        82   \n",
       "2  VirginAmerica  @gambino Hi there, please send us a DM if we c...        56   \n",
       "3   CreativeLive  It could be your lucky day! Join @jeremycowart...        96   \n",
       "4       sfsignal  The Functional Nerds interview Tina Connolly h...        68   \n",
       "\n",
       "   is_response  has_link  \n",
       "0            0         1  \n",
       "1            0         1  \n",
       "2            0         1  \n",
       "3            0         0  \n",
       "4            1         0  "
      ]
     },
     "execution_count": 5,
     "metadata": {},
     "output_type": "execute_result"
    }
   ],
   "source": [
    "# How many tweets contain a link or other username?\n",
    "text = []\n",
    "author = []\n",
    "\n",
    "twitter_username_regex = '@([A-Za-z0-9_]+)'\n",
    "link_regex = '(http|ftp|https)://([\\w_-]+(?:(?:\\.[\\w_-]+)+))([\\w.,@?^=%&:/~+#-]*[\\w@?^=%&/~+#-])?'\n",
    "\n",
    "\n",
    "for t in tqdm(twitter_data):\n",
    "    text.append(t['text'])\n",
    "    author.append(t['user'])\n",
    "    \n",
    "data = pd.DataFrame.from_dict({\"author\":author, \"text\":text})\n",
    "\n",
    "is_response = lambda x: int(re.search(twitter_username_regex, x) == None)\n",
    "has_link = lambda x: int(re.search(link_regex, x) == None)\n",
    "data['char_len'] = data['text'].str.len()\n",
    "data['is_response'] = data['text'].apply(is_response) \n",
    "data['has_link'] = data['text'].apply(has_link) \n",
    "\n",
    "data.head()"
   ]
  },
  {
   "cell_type": "code",
   "execution_count": 6,
   "metadata": {
    "collapsed": false,
    "scrolled": true
   },
   "outputs": [
    {
     "name": "stdout",
     "output_type": "stream",
     "text": [
      "Proportion of Tweets that contain a link: 0.3491301763542178\n",
      "Proportion of Tweets that are a response: 0.5446839353683148\n"
     ]
    }
   ],
   "source": [
    "print(\"Proportion of Tweets that contain a link: {}\".format(np.mean(data['has_link'])))\n",
    "print(\"Proportion of Tweets that are a response: {}\".format(np.mean(data['is_response'])))"
   ]
  },
  {
   "cell_type": "code",
   "execution_count": 7,
   "metadata": {
    "collapsed": false,
    "scrolled": true
   },
   "outputs": [
    {
     "name": "stderr",
     "output_type": "stream",
     "text": [
      "100%|██████████| 1004399/1004399 [00:33<00:00, 29983.90it/s]\n"
     ]
    }
   ],
   "source": [
    "# Let's find all the unique symbols used in the corpus\n",
    "symbols = {}\n",
    "\n",
    "for t in tqdm(data['text']):\n",
    "    for s in t:\n",
    "        if s not in symbols.keys():\n",
    "            symbols[s] = 1\n",
    "        else:\n",
    "            symbols[s] += 1"
   ]
  },
  {
   "cell_type": "code",
   "execution_count": 8,
   "metadata": {
    "collapsed": false
   },
   "outputs": [
    {
     "name": "stdout",
     "output_type": "stream",
     "text": [
      "Number of unique characters: 1935\n"
     ]
    },
    {
     "data": {
      "text/plain": [
       "['🌃', '다', '近', '🕜', '가', '🙂', 'ث', '🌵', 'р', ',']"
      ]
     },
     "execution_count": 8,
     "metadata": {},
     "output_type": "execute_result"
    }
   ],
   "source": [
    "# all characters\n",
    "print(\"Number of unique characters: {}\".format(len(set(symbols.keys()))))\n",
    "list(set(symbols.keys()))[:10] # emoticons ..."
   ]
  },
  {
   "cell_type": "code",
   "execution_count": 9,
   "metadata": {
    "collapsed": false
   },
   "outputs": [
    {
     "data": {
      "text/plain": [
       "<matplotlib.text.Text at 0x14ba01fd0>"
      ]
     },
     "execution_count": 9,
     "metadata": {},
     "output_type": "execute_result"
    },
    {
     "data": {
      "image/png": "[encoded data removed]",
      "text/plain": [
       "<matplotlib.figure.Figure at 0x14a579be0>"
      ]
     },
     "metadata": {},
     "output_type": "display_data"
    }
   ],
   "source": [
    "# most popular characters\n",
    "plt.figure(figsize=(10, 5))\n",
    "top_100 = sorted(symbols.items(), key = lambda x: x[1], reverse=True)[:100]\n",
    "plt.bar(np.arange(100), width=1, height = [tmp[1] for tmp in top_100])\n",
    "tix = plt.xticks(np.arange(100), [tmp[0] for tmp in top_100], rotation=30)\n",
    "plt.title(\"Most popular characters\")"
   ]
  },
  {
   "cell_type": "markdown",
   "metadata": {},
   "source": [
    "## Proposed Preprocessing\n",
    "\n",
    "* Keep tweets with a maximum of 140 characters.\n",
    "* We need some minimum text length that we can work with.\n",
    "* What to do with responses/links.\n",
    "* Some care should be taken when making a vocabulary of characters (introduce <ukn> token perhaps?).\n",
    "* In the paper, Ruder et al. lower case everything but I actually think that case is an indicator of style so should probably leave it as it is.\n",
    "* Probably also need to add a character for padding."
   ]
  },
  {
   "cell_type": "markdown",
   "metadata": {},
   "source": [
    "## Training a single-channel, non-static character level model\n",
    "\n",
    "This will be our attempt to replicate the results of the paper from Ruder et al."
   ]
  },
  {
   "cell_type": "code",
   "execution_count": 10,
   "metadata": {
    "collapsed": false
   },
   "outputs": [
    {
     "data": {
      "text/plain": [
       "AmericanAir        27949\n",
       "LonelyOakradio     15198\n",
       "DavidPapp          13240\n",
       "thehill             6259\n",
       "oye_gujju           6220\n",
       "marshawright        5791\n",
       "KLM                 5665\n",
       "businessinsider     5382\n",
       "united              5313\n",
       "BritishVogue        5056\n",
       "piercearrow33       4923\n",
       "MicrosoftHelps      4817\n",
       "manila_bulletin     4633\n",
       "ndtv                4456\n",
       "flickeringmyth      4347\n",
       "business            4190\n",
       "HeathrowAirport     4074\n",
       "MarshaCollier       3978\n",
       "BruceVH             3937\n",
       "Pooja__G            3884\n",
       "LinuxForYou         3859\n",
       "EconomicTimes       3821\n",
       "LoriMoreno          3749\n",
       "Windows             3698\n",
       "Slate               3619\n",
       "Inc                 3576\n",
       "IsraelNewsNow       3570\n",
       "NGRGUARDIANNEWS     3557\n",
       "kimgarst            3542\n",
       "ANI_news            3541\n",
       "                   ...  \n",
       "BenaimValerie          1\n",
       "c_durley               1\n",
       "maniksurtani           1\n",
       "Rajaiabukhalil         1\n",
       "mt_nickerson           1\n",
       "cumarachel             1\n",
       "ryanbubinski           1\n",
       "bower                  1\n",
       "jquery                 1\n",
       "ConectorSpain          1\n",
       "jsconf                 1\n",
       "ErnieDeJesus           1\n",
       "RaidenIntegra          1\n",
       "dr_ahmetkuru           1\n",
       "CSEdWeek               1\n",
       "KontingenCSUI          1\n",
       "Hussein_Gaza           1\n",
       "FASILKOM_UI            1\n",
       "RxJava                 1\n",
       "timberners_lee         1\n",
       "ed_roman               1\n",
       "RiottNight             1\n",
       "MichaelMinot           1\n",
       "treylayton             1\n",
       "ML_Hipster             1\n",
       "mpoppendieck           1\n",
       "perez                  1\n",
       "kaifulee               1\n",
       "arturoelias            1\n",
       "SuzanneMalveaux        1\n",
       "Name: author, dtype: int64"
      ]
     },
     "execution_count": 10,
     "metadata": {},
     "output_type": "execute_result"
    }
   ],
   "source": [
    "# Only keep tweets less than 140 and more than 10 characters\n",
    "filtered_data = data[np.logical_and(data['char_len']>=10, data['char_len']<=140)]\n",
    "filtered_data['author'].value_counts()"
   ]
  },
  {
   "cell_type": "code",
   "execution_count": 11,
   "metadata": {
    "collapsed": false
   },
   "outputs": [
    {
     "data": {
      "text/html": [
       "<div>\n",
       "<table border=\"1\" class=\"dataframe\">\n",
       "  <thead>\n",
       "    <tr style=\"text-align: right;\">\n",
       "      <th></th>\n",
       "      <th>author</th>\n",
       "      <th>text</th>\n",
       "      <th>char_len</th>\n",
       "      <th>is_response</th>\n",
       "      <th>has_link</th>\n",
       "    </tr>\n",
       "  </thead>\n",
       "  <tbody>\n",
       "    <tr>\n",
       "      <th>8</th>\n",
       "      <td>AmericanAir</td>\n",
       "      <td>@StephanieQuayle Thanks for the #cyberhug for ...</td>\n",
       "      <td>98</td>\n",
       "      <td>0</td>\n",
       "      <td>1</td>\n",
       "    </tr>\n",
       "    <tr>\n",
       "      <th>10</th>\n",
       "      <td>MicrosoftHelps</td>\n",
       "      <td>@catherine_ycf Allow us to put an end to this!...</td>\n",
       "      <td>117</td>\n",
       "      <td>0</td>\n",
       "      <td>1</td>\n",
       "    </tr>\n",
       "    <tr>\n",
       "      <th>11</th>\n",
       "      <td>AmericanAir</td>\n",
       "      <td>@mholzke Link is perfect! We'll share your kin...</td>\n",
       "      <td>102</td>\n",
       "      <td>0</td>\n",
       "      <td>1</td>\n",
       "    </tr>\n",
       "    <tr>\n",
       "      <th>66</th>\n",
       "      <td>LonelyOakradio</td>\n",
       "      <td>#NowPlaying Built To Spill - Some Things Last ...</td>\n",
       "      <td>103</td>\n",
       "      <td>1</td>\n",
       "      <td>0</td>\n",
       "    </tr>\n",
       "    <tr>\n",
       "      <th>80</th>\n",
       "      <td>AmericanAir</td>\n",
       "      <td>@Chic_Wood We know you don't want to miss your...</td>\n",
       "      <td>86</td>\n",
       "      <td>0</td>\n",
       "      <td>1</td>\n",
       "    </tr>\n",
       "  </tbody>\n",
       "</table>\n",
       "</div>"
      ],
      "text/plain": [
       "            author                                               text  \\\n",
       "8      AmericanAir  @StephanieQuayle Thanks for the #cyberhug for ...   \n",
       "10  MicrosoftHelps  @catherine_ycf Allow us to put an end to this!...   \n",
       "11     AmericanAir  @mholzke Link is perfect! We'll share your kin...   \n",
       "66  LonelyOakradio  #NowPlaying Built To Spill - Some Things Last ...   \n",
       "80     AmericanAir  @Chic_Wood We know you don't want to miss your...   \n",
       "\n",
       "    char_len  is_response  has_link  \n",
       "8         98            0         1  \n",
       "10       117            0         1  \n",
       "11       102            0         1  \n",
       "66       103            1         0  \n",
       "80        86            0         1  "
      ]
     },
     "execution_count": 11,
     "metadata": {},
     "output_type": "execute_result"
    }
   ],
   "source": [
    "# select 10 authors for preliminary experiments (try for diversity)\n",
    "author_list = ['AmericanAir', 'LonelyOakradio', 'DavidPapp', 'oye_gujju', 'marshawright', 'piercearrow33', \n",
    "               'MicrosoftHelps','MarshaCollier', 'BruceVH', 'Pooja__G']\n",
    "selected_authors = filtered_data[filtered_data['author'].isin(author_list)]\n",
    "selected_authors.head()"
   ]
  },
  {
   "cell_type": "code",
   "execution_count": 12,
   "metadata": {
    "collapsed": false
   },
   "outputs": [
    {
     "name": "stderr",
     "output_type": "stream",
     "text": [
      "100%|██████████| 89937/89937 [00:02<00:00, 31093.43it/s]\n"
     ]
    }
   ],
   "source": [
    "# vocabulary\n",
    "symbols = {}\n",
    "\n",
    "for t in tqdm(selected_authors['text']):\n",
    "    for s in t:\n",
    "        if s not in symbols.keys():\n",
    "            symbols[s] = 1\n",
    "        else:\n",
    "            symbols[s] += 1"
   ]
  },
  {
   "cell_type": "code",
   "execution_count": 13,
   "metadata": {
    "collapsed": false
   },
   "outputs": [
    {
     "data": {
      "text/plain": [
       "253"
      ]
     },
     "execution_count": 13,
     "metadata": {},
     "output_type": "execute_result"
    }
   ],
   "source": [
    "sorted_chars = sorted(symbols.items(), key = lambda x: x[1], reverse = True)\n",
    "vocabulary = [x[0] for x in sorted_chars]\n",
    "len(vocabulary)"
   ]
  },
  {
   "cell_type": "code",
   "execution_count": 14,
   "metadata": {
    "collapsed": false
   },
   "outputs": [
    {
     "data": {
      "text/html": [
       "<div>\n",
       "<table border=\"1\" class=\"dataframe\">\n",
       "  <thead>\n",
       "    <tr style=\"text-align: right;\">\n",
       "      <th></th>\n",
       "      <th>character</th>\n",
       "      <th>count</th>\n",
       "      <th>vocab_character_updated</th>\n",
       "    </tr>\n",
       "  </thead>\n",
       "  <tbody>\n",
       "    <tr>\n",
       "      <th>0</th>\n",
       "      <td></td>\n",
       "      <td>1222354</td>\n",
       "      <td></td>\n",
       "    </tr>\n",
       "    <tr>\n",
       "      <th>1</th>\n",
       "      <td>e</td>\n",
       "      <td>682863</td>\n",
       "      <td>e</td>\n",
       "    </tr>\n",
       "    <tr>\n",
       "      <th>2</th>\n",
       "      <td>t</td>\n",
       "      <td>570810</td>\n",
       "      <td>t</td>\n",
       "    </tr>\n",
       "    <tr>\n",
       "      <th>3</th>\n",
       "      <td>o</td>\n",
       "      <td>550029</td>\n",
       "      <td>o</td>\n",
       "    </tr>\n",
       "    <tr>\n",
       "      <th>4</th>\n",
       "      <td>a</td>\n",
       "      <td>483117</td>\n",
       "      <td>a</td>\n",
       "    </tr>\n",
       "  </tbody>\n",
       "</table>\n",
       "</div>"
      ],
      "text/plain": [
       "  character    count vocab_character_updated\n",
       "0            1222354                        \n",
       "1         e   682863                       e\n",
       "2         t   570810                       t\n",
       "3         o   550029                       o\n",
       "4         a   483117                       a"
      ]
     },
     "execution_count": 14,
     "metadata": {},
     "output_type": "execute_result"
    }
   ],
   "source": [
    "# keep the characters that appear more than 100 times\n",
    "vocab = pd.DataFrame(sorted_chars, columns=[\"character\", \"count\"])\n",
    "above100 = vocab[vocab['count']>=100]\n",
    "above100_chars = above100['character'].values\n",
    "\n",
    "replace = lambda x: x if x in above100_chars else '<ukn>'\n",
    "vocab['vocab_character_updated'] = vocab['character'].apply(replace)\n",
    "vocab.head()"
   ]
  },
  {
   "cell_type": "code",
   "execution_count": 15,
   "metadata": {
    "collapsed": false
   },
   "outputs": [
    {
     "data": {
      "text/html": [
       "<div>\n",
       "<table border=\"1\" class=\"dataframe\">\n",
       "  <thead>\n",
       "    <tr style=\"text-align: right;\">\n",
       "      <th></th>\n",
       "      <th>character</th>\n",
       "      <th>count</th>\n",
       "      <th>vocab_character_updated</th>\n",
       "    </tr>\n",
       "  </thead>\n",
       "  <tbody>\n",
       "    <tr>\n",
       "      <th>0</th>\n",
       "      <td>&lt;pad&gt;</td>\n",
       "      <td>1222354</td>\n",
       "      <td>&lt;pad&gt;</td>\n",
       "    </tr>\n",
       "    <tr>\n",
       "      <th>0</th>\n",
       "      <td></td>\n",
       "      <td>1222354</td>\n",
       "      <td></td>\n",
       "    </tr>\n",
       "    <tr>\n",
       "      <th>1</th>\n",
       "      <td>e</td>\n",
       "      <td>682863</td>\n",
       "      <td>e</td>\n",
       "    </tr>\n",
       "    <tr>\n",
       "      <th>2</th>\n",
       "      <td>t</td>\n",
       "      <td>570810</td>\n",
       "      <td>t</td>\n",
       "    </tr>\n",
       "    <tr>\n",
       "      <th>3</th>\n",
       "      <td>o</td>\n",
       "      <td>550029</td>\n",
       "      <td>o</td>\n",
       "    </tr>\n",
       "  </tbody>\n",
       "</table>\n",
       "</div>"
      ],
      "text/plain": [
       "  character    count vocab_character_updated\n",
       "0     <pad>  1222354                   <pad>\n",
       "0            1222354                        \n",
       "1         e   682863                       e\n",
       "2         t   570810                       t\n",
       "3         o   550029                       o"
      ]
     },
     "execution_count": 15,
     "metadata": {},
     "output_type": "execute_result"
    }
   ],
   "source": [
    "# add another character that corresponds to padding\n",
    "tempo = pd.DataFrame.from_dict({\"character\":[\"<pad>\"], \"count\":[1222354], \"vocab_character_updated\":[\"<pad>\"]})\n",
    "vocab = tempo.append(vocab)\n",
    "vocab.head()"
   ]
  },
  {
   "cell_type": "code",
   "execution_count": 21,
   "metadata": {
    "collapsed": false,
    "scrolled": true
   },
   "outputs": [
    {
     "data": {
      "text/plain": [
       "{'\\n': 65,\n",
       " ' ': 1,\n",
       " '!': 58,\n",
       " '\"': 81,\n",
       " '#': 38,\n",
       " '$': 86,\n",
       " '%': 88,\n",
       " '&': 84,\n",
       " \"'\": 30,\n",
       " '(': 78,\n",
       " ')': 76,\n",
       " '*': 60,\n",
       " '+': 93,\n",
       " ',': 39,\n",
       " '-': 44,\n",
       " '.': 21,\n",
       " '/': 17,\n",
       " '0': 57,\n",
       " '1': 49,\n",
       " '2': 55,\n",
       " '3': 53,\n",
       " '4': 62,\n",
       " '5': 66,\n",
       " '6': 74,\n",
       " '7': 56,\n",
       " '8': 69,\n",
       " '9': 72,\n",
       " ':': 29,\n",
       " ';': 83,\n",
       " '<pad>': 0,\n",
       " '<ukn>': 253,\n",
       " '=': 89,\n",
       " '?': 70,\n",
       " '@': 28,\n",
       " 'A': 33,\n",
       " 'B': 41,\n",
       " 'C': 37,\n",
       " 'D': 40,\n",
       " 'E': 51,\n",
       " 'F': 47,\n",
       " 'G': 50,\n",
       " 'H': 45,\n",
       " 'I': 36,\n",
       " 'J': 61,\n",
       " 'K': 64,\n",
       " 'L': 35,\n",
       " 'M': 34,\n",
       " 'N': 42,\n",
       " 'O': 43,\n",
       " 'P': 27,\n",
       " 'Q': 77,\n",
       " 'R': 48,\n",
       " 'S': 32,\n",
       " 'T': 26,\n",
       " 'U': 63,\n",
       " 'V': 67,\n",
       " 'W': 31,\n",
       " 'X': 73,\n",
       " 'Y': 54,\n",
       " 'Z': 71,\n",
       " '[': 80,\n",
       " ']': 79,\n",
       " '_': 75,\n",
       " 'a': 5,\n",
       " 'b': 24,\n",
       " 'c': 13,\n",
       " 'd': 14,\n",
       " 'e': 2,\n",
       " 'f': 22,\n",
       " 'g': 18,\n",
       " 'h': 10,\n",
       " 'i': 8,\n",
       " 'j': 46,\n",
       " 'k': 23,\n",
       " 'l': 11,\n",
       " 'm': 20,\n",
       " 'n': 6,\n",
       " 'o': 4,\n",
       " 'p': 16,\n",
       " 'q': 68,\n",
       " 'r': 7,\n",
       " 's': 9,\n",
       " 't': 3,\n",
       " 'u': 12,\n",
       " 'v': 25,\n",
       " 'w': 19,\n",
       " 'x': 59,\n",
       " 'y': 15,\n",
       " 'z': 52,\n",
       " '|': 85,\n",
       " '~': 90,\n",
       " '\\xa0': 87,\n",
       " '–': 96,\n",
       " '‘': 95,\n",
       " '’': 82,\n",
       " '“': 91,\n",
       " '”': 92,\n",
       " '…': 94,\n",
       " '😉': 97}"
      ]
     },
     "execution_count": 21,
     "metadata": {},
     "output_type": "execute_result"
    }
   ],
   "source": [
    "dicti = {}\n",
    "count = 0\n",
    "for t in vocab['vocab_character_updated']:\n",
    "    dicti[t] = count\n",
    "    count += 1\n",
    "\n",
    "dicti"
   ]
  },
  {
   "cell_type": "code",
   "execution_count": 33,
   "metadata": {
    "collapsed": false
   },
   "outputs": [],
   "source": [
    "def translate_tweet(tweet):\n",
    "    lst = list(tweet)\n",
    "    vec = []\n",
    "    for c in lst:\n",
    "        if c not in dicti.keys():\n",
    "            vec.append(dicti['<ukn>'])\n",
    "        else:\n",
    "            vec.append(dicti[c])\n",
    "    if len(vec)<140:\n",
    "        vec += [0]*(140-len(vec))\n",
    "    return np.array(vec)\n",
    "\n",
    "training_data = selected_authors['text'].apply(translate_tweet)"
   ]
  },
  {
   "cell_type": "code",
   "execution_count": 57,
   "metadata": {
    "collapsed": false
   },
   "outputs": [
    {
     "data": {
      "text/plain": [
       "array([0, 5, 0, ..., 2, 3, 2])"
      ]
     },
     "execution_count": 57,
     "metadata": {},
     "output_type": "execute_result"
    }
   ],
   "source": [
    "from sklearn.preprocessing import LabelEncoder\n",
    "\n",
    "le = LabelEncoder()\n",
    "le.fit(author_list)\n",
    "target_authors = le.transform(selected_authors['author'])\n",
    "target_authors"
   ]
  },
  {
   "cell_type": "code",
   "execution_count": 59,
   "metadata": {
    "collapsed": false
   },
   "outputs": [],
   "source": [
    "# save for future use\n",
    "np.save(\"../outputs/10_user_X_Nov_11.npy\", training_data)\n",
    "np.save(\"../outputs/10_user_y_Nov_11.npy\", target_authors)"
   ]
  }
 ],
 "metadata": {
  "anaconda-cloud": {},
  "kernelspec": {
   "display_name": "Python [conda root]",
   "language": "python",
   "name": "conda-root-py"
  },
  "language_info": {
   "codemirror_mode": {
    "name": "ipython",
    "version": 3
   },
   "file_extension": ".py",
   "mimetype": "text/x-python",
   "name": "python",
   "nbconvert_exporter": "python",
   "pygments_lexer": "ipython3",
   "version": "3.5.2"
  }
 },
 "nbformat": 4,
 "nbformat_minor": 2
}
