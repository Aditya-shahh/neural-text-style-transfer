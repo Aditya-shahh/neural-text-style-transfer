{
 "cells": [
  {
   "cell_type": "code",
   "execution_count": 1,
   "metadata": {
    "collapsed": true
   },
   "outputs": [],
   "source": [
    "import numpy as np\n",
    "import pandas as pd\n",
    "import tensorflow as tf\n",
    "import matplotlib.pyplot as plt\n",
    "import json\n",
    "from tqdm import tqdm\n",
    "plt.style.use('fivethirtyeight')\n",
    "\n",
    "%matplotlib inline"
   ]
  },
  {
   "cell_type": "code",
   "execution_count": 2,
   "metadata": {
    "collapsed": false
   },
   "outputs": [],
   "source": [
    "input_X = np.load(\"../outputs/10_user_X_Nov_11.npy\")\n",
    "input_y = np.load(\"../outputs/10_user_y_Nov_11.npy\")\n",
    "num_classes_for_prediction = 10\n",
    "\n",
    "# put X in the right format\n",
    "X = np.array([_ for _ in input_X])\n",
    "\n",
    "# put y in the right format\n",
    "def ohe(n):\n",
    "    vec = np.zeros(num_classes_for_prediction)\n",
    "    vec[n] = 1\n",
    "    return vec\n",
    "\n",
    "y = np.array([ohe(n) for n in input_y])\n",
    "with open('../outputs/Nov11_char_dic.json', 'r') as fp:\n",
    "    charToIndex = json.load(fp)\n",
    "\n",
    "# constants\n",
    "vocab_size = len(charToIndex)\n",
    "embedding_dims = 300\n",
    "tweet_size = 140\n",
    "batch_size = 100\n",
    "epochs = 10"
   ]
  },
  {
   "cell_type": "code",
   "execution_count": 3,
   "metadata": {
    "collapsed": false
   },
   "outputs": [],
   "source": [
    "# Model\n",
    "\n",
    "# Placeholders for inputs\n",
    "train_inputs = tf.placeholder(tf.int32, shape=[None, tweet_size], name='train_inputs')\n",
    "train_labels = tf.placeholder(tf.int32, shape=[None, num_classes_for_prediction], name='train_labels')\n",
    "\n",
    "# Create the embedding matrix\n",
    "embeddings = tf.Variable(tf.random_uniform([vocab_size, embedding_dims], -1.0, 1.0), name='embeddings')\n",
    "\n",
    "# Extract the character embeddings for the tweet\n",
    "embed =  tf.reshape(tf.nn.embedding_lookup(embeddings, train_inputs), [-1, tweet_size, embedding_dims, 1],\n",
    "                    name='embed')\n",
    "\n",
    "# The convolutional part\n",
    "n_gram = 2\n",
    "num_filters = 32\n",
    "W_conv = tf.Variable(tf.truncated_normal([n_gram, embedding_dims, 1, num_filters], stddev=0.05), name=\"W_conv\")\n",
    "b_conv = tf.Variable(tf.constant(0.1, shape=[num_filters]), name=\"b_conv\")\n",
    "\n",
    "conv = tf.nn.conv2d(\n",
    "        embed,\n",
    "        W_conv, \n",
    "        strides=[1, 1, 1, 1], \n",
    "        padding=\"VALID\", \n",
    "        name=\"convolution\")\n",
    "\n",
    "h = tf.nn.tanh(tf.nn.bias_add(conv, b_conv), name=\"relu\")\n",
    "\n",
    "pooled = tf.nn.max_pool(\n",
    "        h,\n",
    "        ksize=[1, h.get_shape()[1].value, 1, 1],\n",
    "        strides=[1, 1, 1, 1],\n",
    "        padding='VALID',\n",
    "        name=\"max_pool\")\n",
    "\n",
    "# reshape and add FC\n",
    "h_pool_flat = tf.reshape(pooled, [-1, num_filters], name='flatten')\n",
    "\n",
    "W_fc = tf.Variable(tf.truncated_normal([num_filters, num_classes_for_prediction], stddev=0.05), name=\"W_fc\")\n",
    "b_fc = tf.Variable(tf.constant(0.1, shape=[num_classes_for_prediction]), name=\"b_fc\")\n",
    "fc_output = tf.nn.tanh(tf.matmul(h_pool_flat, W_fc) + b_fc, name=\"fc\")\n",
    "\n",
    "# cross entropy loss function\n",
    "loss = tf.reduce_mean(\n",
    "    tf.nn.softmax_cross_entropy_with_logits(\n",
    "    _sentinel=None,\n",
    "    labels=train_labels,\n",
    "    logits=fc_output,\n",
    "    dim=-1,\n",
    "    name='loss'\n",
    "))\n",
    "\n",
    "preds = tf.argmax(fc_output, 1, name='predictions')\n",
    "true_vals = tf.argmax(train_labels, 1, name='true_vals')\n",
    "acc = tf.reduce_mean(tf.cast(tf.equal(preds, true_vals), tf.float32), name = 'acc')\n",
    "\n",
    "# SGD optimizer\n",
    "learning_rate = 0.5\n",
    "optimizer = tf.train.GradientDescentOptimizer(learning_rate=learning_rate, name='optimizer')\n",
    "train_step = optimizer.minimize(loss, name='train_step')"
   ]
  },
  {
   "cell_type": "code",
   "execution_count": 4,
   "metadata": {
    "collapsed": true
   },
   "outputs": [],
   "source": [
    "sess = tf.Session()\n",
    "init = tf.global_variables_initializer()\n",
    "sess.run(init)"
   ]
  },
  {
   "cell_type": "code",
   "execution_count": 5,
   "metadata": {
    "collapsed": false,
    "scrolled": true
   },
   "outputs": [
    {
     "name": "stderr",
     "output_type": "stream",
     "text": [
      "\r",
      "0it [00:00, ?it/s]"
     ]
    },
    {
     "name": "stdout",
     "output_type": "stream",
     "text": [
      "Split: 0\n",
      "Epoch: 0\n"
     ]
    },
    {
     "name": "stderr",
     "output_type": "stream",
     "text": [
      "901it [02:14,  6.71it/s]\n",
      "0it [00:00, ?it/s]"
     ]
    },
    {
     "name": "stdout",
     "output_type": "stream",
     "text": [
      "Training accuracy: 0.621757447719574\n",
      "Training loss: 1.3595110177993774\n",
      "Validation accuracy: 0.7850789427757263\n",
      "Validation loss: 1.114120602607727\n",
      "Epoch: 1\n"
     ]
    },
    {
     "name": "stderr",
     "output_type": "stream",
     "text": [
      "901it [02:00,  7.48it/s]\n",
      "0it [00:00, ?it/s]"
     ]
    },
    {
     "name": "stdout",
     "output_type": "stream",
     "text": [
      "Training accuracy: 0.8522024750709534\n",
      "Training loss: 1.0158101320266724\n",
      "Validation accuracy: 0.8150433897972107\n",
      "Validation loss: 1.049970269203186\n",
      "Epoch: 2\n"
     ]
    },
    {
     "name": "stderr",
     "output_type": "stream",
     "text": [
      "901it [02:08,  7.03it/s]\n",
      "0it [00:00, ?it/s]"
     ]
    },
    {
     "name": "stdout",
     "output_type": "stream",
     "text": [
      "Training accuracy: 0.866718590259552\n",
      "Training loss: 0.9897243976593018\n",
      "Validation accuracy: 0.8405047655105591\n",
      "Validation loss: 1.0179898738861084\n",
      "Epoch: 3\n"
     ]
    },
    {
     "name": "stderr",
     "output_type": "stream",
     "text": [
      "901it [02:12,  6.78it/s]\n",
      "0it [00:00, ?it/s]"
     ]
    },
    {
     "name": "stdout",
     "output_type": "stream",
     "text": [
      "Training accuracy: 0.872157871723175\n",
      "Training loss: 0.9735020995140076\n",
      "Validation accuracy: 0.8538470268249512\n",
      "Validation loss: 1.0044142007827759\n",
      "Epoch: 4\n"
     ]
    },
    {
     "name": "stderr",
     "output_type": "stream",
     "text": [
      "901it [02:06,  7.15it/s]\n",
      "0it [00:00, ?it/s]"
     ]
    },
    {
     "name": "stdout",
     "output_type": "stream",
     "text": [
      "Training accuracy: 0.8806562423706055\n",
      "Training loss: 0.9659802913665771\n",
      "Validation accuracy: 0.8691905736923218\n",
      "Validation loss: 0.982292652130127\n",
      "Epoch: 5\n"
     ]
    },
    {
     "name": "stderr",
     "output_type": "stream",
     "text": [
      "901it [01:59,  7.54it/s]\n",
      "2it [00:00, 10.65it/s]"
     ]
    },
    {
     "name": "stdout",
     "output_type": "stream",
     "text": [
      "Training accuracy: 0.886329174041748\n",
      "Training loss: 0.9555267691612244\n",
      "Validation accuracy: 0.8670780658721924\n",
      "Validation loss: 0.9787936806678772\n",
      "Epoch: 6\n"
     ]
    },
    {
     "name": "stderr",
     "output_type": "stream",
     "text": [
      "901it [01:59,  7.53it/s]\n",
      "0it [00:00, ?it/s]"
     ]
    },
    {
     "name": "stdout",
     "output_type": "stream",
     "text": [
      "Training accuracy: 0.8901891112327576\n",
      "Training loss: 0.9460486173629761\n",
      "Validation accuracy: 0.8756393194198608\n",
      "Validation loss: 0.9686955809593201\n",
      "Epoch: 7\n"
     ]
    },
    {
     "name": "stderr",
     "output_type": "stream",
     "text": [
      "901it [01:57,  7.69it/s]\n",
      "2it [00:00, 10.70it/s]"
     ]
    },
    {
     "name": "stdout",
     "output_type": "stream",
     "text": [
      "Training accuracy: 0.8898220658302307\n",
      "Training loss: 0.9416287541389465\n",
      "Validation accuracy: 0.8808094263076782\n",
      "Validation loss: 0.9594376087188721\n",
      "Epoch: 8\n"
     ]
    },
    {
     "name": "stderr",
     "output_type": "stream",
     "text": [
      "901it [01:57,  7.66it/s]\n",
      "2it [00:00, 10.54it/s]"
     ]
    },
    {
     "name": "stdout",
     "output_type": "stream",
     "text": [
      "Training accuracy: 0.8906006217002869\n",
      "Training loss: 0.9394266605377197\n",
      "Validation accuracy: 0.8749166131019592\n",
      "Validation loss: 0.9695035219192505\n",
      "Epoch: 9\n"
     ]
    },
    {
     "name": "stderr",
     "output_type": "stream",
     "text": [
      "901it [01:58,  7.61it/s]\n"
     ]
    },
    {
     "name": "stdout",
     "output_type": "stream",
     "text": [
      "Training accuracy: 0.892892062664032\n",
      "Training loss: 0.9345294833183289\n",
      "Validation accuracy: 0.8778630495071411\n",
      "Validation loss: 0.9682967662811279\n",
      "Split: 1\n"
     ]
    },
    {
     "name": "stderr",
     "output_type": "stream",
     "text": [
      "2it [00:00, 11.70it/s]"
     ]
    },
    {
     "name": "stdout",
     "output_type": "stream",
     "text": [
      "Epoch: 0\n"
     ]
    },
    {
     "name": "stderr",
     "output_type": "stream",
     "text": [
      "901it [01:56,  7.70it/s]\n",
      "0it [00:00, ?it/s]"
     ]
    },
    {
     "name": "stdout",
     "output_type": "stream",
     "text": [
      "Training accuracy: 0.5957174897193909\n",
      "Training loss: 1.365028738975525\n",
      "Validation accuracy: 0.7740715742111206\n",
      "Validation loss: 1.120204210281372\n",
      "Epoch: 1\n"
     ]
    },
    {
     "name": "stderr",
     "output_type": "stream",
     "text": [
      "901it [01:57,  7.66it/s]\n",
      "0it [00:00, ?it/s]"
     ]
    },
    {
     "name": "stdout",
     "output_type": "stream",
     "text": [
      "Training accuracy: 0.8433815240859985\n",
      "Training loss: 1.0049628019332886\n",
      "Validation accuracy: 0.8348343372344971\n",
      "Validation loss: 1.0165742635726929\n",
      "Epoch: 2\n"
     ]
    },
    {
     "name": "stderr",
     "output_type": "stream",
     "text": [
      "901it [01:57,  7.69it/s]\n",
      "2it [00:00, 12.63it/s]"
     ]
    },
    {
     "name": "stdout",
     "output_type": "stream",
     "text": [
      "Training accuracy: 0.8690322637557983\n",
      "Training loss: 0.9668928980827332\n",
      "Validation accuracy: 0.8542361855506897\n",
      "Validation loss: 0.9963545799255371\n",
      "Epoch: 3\n"
     ]
    },
    {
     "name": "stderr",
     "output_type": "stream",
     "text": [
      "901it [01:56,  7.74it/s]\n",
      "2it [00:00, 12.95it/s]"
     ]
    },
    {
     "name": "stdout",
     "output_type": "stream",
     "text": [
      "Training accuracy: 0.8775194883346558\n",
      "Training loss: 0.953532338142395\n",
      "Validation accuracy: 0.8615744113922119\n",
      "Validation loss: 0.9811009168624878\n",
      "Epoch: 4\n"
     ]
    },
    {
     "name": "stderr",
     "output_type": "stream",
     "text": [
      "901it [01:55,  7.78it/s]\n",
      "2it [00:00, 12.51it/s]"
     ]
    },
    {
     "name": "stdout",
     "output_type": "stream",
     "text": [
      "Training accuracy: 0.8825473189353943\n",
      "Training loss: 0.9502291083335876\n",
      "Validation accuracy: 0.8680230975151062\n",
      "Validation loss: 0.975006103515625\n",
      "Epoch: 5\n"
     ]
    },
    {
     "name": "stderr",
     "output_type": "stream",
     "text": [
      "901it [01:56,  7.74it/s]\n",
      "2it [00:00, 13.28it/s]"
     ]
    },
    {
     "name": "stdout",
     "output_type": "stream",
     "text": [
      "Training accuracy: 0.8909121155738831\n",
      "Training loss: 0.943412184715271\n",
      "Validation accuracy: 0.8769179582595825\n",
      "Validation loss: 0.9732341170310974\n",
      "Epoch: 6\n"
     ]
    },
    {
     "name": "stderr",
     "output_type": "stream",
     "text": [
      "901it [01:56,  7.75it/s]\n",
      "2it [00:00, 12.40it/s]"
     ]
    },
    {
     "name": "stdout",
     "output_type": "stream",
     "text": [
      "Training accuracy: 0.8919243812561035\n",
      "Training loss: 0.9380257725715637\n",
      "Validation accuracy: 0.8795307874679565\n",
      "Validation loss: 0.9605904817581177\n",
      "Epoch: 7\n"
     ]
    },
    {
     "name": "stderr",
     "output_type": "stream",
     "text": [
      "901it [02:00,  7.47it/s]\n",
      "2it [00:00, 12.85it/s]"
     ]
    },
    {
     "name": "stdout",
     "output_type": "stream",
     "text": [
      "Training accuracy: 0.892625093460083\n",
      "Training loss: 0.9334219694137573\n",
      "Validation accuracy: 0.8793084025382996\n",
      "Validation loss: 0.9618098139762878\n",
      "Epoch: 8\n"
     ]
    },
    {
     "name": "stderr",
     "output_type": "stream",
     "text": [
      "901it [01:56,  7.74it/s]\n",
      "2it [00:00, 13.53it/s]"
     ]
    },
    {
     "name": "stdout",
     "output_type": "stream",
     "text": [
      "Training accuracy: 0.894137978553772\n",
      "Training loss: 0.9310691356658936\n",
      "Validation accuracy: 0.8808094263076782\n",
      "Validation loss: 0.9579906463623047\n",
      "Epoch: 9\n"
     ]
    },
    {
     "name": "stderr",
     "output_type": "stream",
     "text": [
      "901it [01:56,  7.75it/s]\n"
     ]
    },
    {
     "name": "stdout",
     "output_type": "stream",
     "text": [
      "Training accuracy: 0.8956395983695984\n",
      "Training loss: 0.9282199144363403\n",
      "Validation accuracy: 0.8900933861732483\n",
      "Validation loss: 0.9409518241882324\n",
      "Split: 2\n"
     ]
    },
    {
     "name": "stderr",
     "output_type": "stream",
     "text": [
      "2it [00:00, 13.78it/s]"
     ]
    },
    {
     "name": "stdout",
     "output_type": "stream",
     "text": [
      "Epoch: 0\n"
     ]
    },
    {
     "name": "stderr",
     "output_type": "stream",
     "text": [
      "901it [01:55,  7.81it/s]\n",
      "2it [00:00, 12.83it/s]"
     ]
    },
    {
     "name": "stdout",
     "output_type": "stream",
     "text": [
      "Training accuracy: 0.5846050977706909\n",
      "Training loss: 1.3852206468582153\n",
      "Validation accuracy: 0.7433702349662781\n",
      "Validation loss: 1.1890841722488403\n",
      "Epoch: 1\n"
     ]
    },
    {
     "name": "stderr",
     "output_type": "stream",
     "text": [
      "901it [01:55,  7.78it/s]\n",
      "2it [00:00, 11.43it/s]"
     ]
    },
    {
     "name": "stdout",
     "output_type": "stream",
     "text": [
      "Training accuracy: 0.8218130469322205\n",
      "Training loss: 1.0470205545425415\n",
      "Validation accuracy: 0.7858453392982483\n",
      "Validation loss: 1.1201415061950684\n",
      "Epoch: 2\n"
     ]
    },
    {
     "name": "stderr",
     "output_type": "stream",
     "text": [
      "901it [01:55,  7.79it/s]\n",
      "2it [00:00, 13.00it/s]"
     ]
    },
    {
     "name": "stdout",
     "output_type": "stream",
     "text": [
      "Training accuracy: 0.836507260799408\n",
      "Training loss: 1.00812828540802\n",
      "Validation accuracy: 0.8092511296272278\n",
      "Validation loss: 1.0638507604599\n",
      "Epoch: 3\n"
     ]
    },
    {
     "name": "stderr",
     "output_type": "stream",
     "text": [
      "901it [01:55,  7.81it/s]\n",
      "2it [00:00, 11.70it/s]"
     ]
    },
    {
     "name": "stdout",
     "output_type": "stream",
     "text": [
      "Training accuracy: 0.8465072512626648\n",
      "Training loss: 0.9890084862709045\n",
      "Validation accuracy: 0.8220381140708923\n",
      "Validation loss: 1.0325642824172974\n",
      "Epoch: 4\n"
     ]
    },
    {
     "name": "stderr",
     "output_type": "stream",
     "text": [
      "901it [01:56,  7.74it/s]\n",
      "2it [00:00, 12.54it/s]"
     ]
    },
    {
     "name": "stdout",
     "output_type": "stream",
     "text": [
      "Training accuracy: 0.8492324352264404\n",
      "Training loss: 0.988732635974884\n",
      "Validation accuracy: 0.8076388239860535\n",
      "Validation loss: 1.0451560020446777\n",
      "Epoch: 5\n"
     ]
    },
    {
     "name": "stderr",
     "output_type": "stream",
     "text": [
      "901it [02:01,  7.43it/s]\n",
      "2it [00:00, 10.59it/s]"
     ]
    },
    {
     "name": "stdout",
     "output_type": "stream",
     "text": [
      "Training accuracy: 0.8485984802246094\n",
      "Training loss: 0.9890775084495544\n",
      "Validation accuracy: 0.8162561655044556\n",
      "Validation loss: 1.0373412370681763\n",
      "Epoch: 6\n"
     ]
    },
    {
     "name": "stderr",
     "output_type": "stream",
     "text": [
      "901it [01:56,  7.70it/s]\n",
      "0it [00:00, ?it/s]"
     ]
    },
    {
     "name": "stdout",
     "output_type": "stream",
     "text": [
      "Training accuracy: 0.8563514947891235\n",
      "Training loss: 0.9797482490539551\n",
      "Validation accuracy: 0.8374937176704407\n",
      "Validation loss: 0.9956410527229309\n",
      "Epoch: 7\n"
     ]
    },
    {
     "name": "stderr",
     "output_type": "stream",
     "text": [
      "901it [01:58,  7.62it/s]\n",
      "0it [00:00, ?it/s]"
     ]
    },
    {
     "name": "stdout",
     "output_type": "stream",
     "text": [
      "Training accuracy: 0.8653948903083801\n",
      "Training loss: 0.9754776358604431\n",
      "Validation accuracy: 0.8495579957962036\n",
      "Validation loss: 1.0011910200119019\n",
      "Epoch: 8\n"
     ]
    },
    {
     "name": "stderr",
     "output_type": "stream",
     "text": [
      "901it [01:57,  7.64it/s]\n",
      "0it [00:00, ?it/s]"
     ]
    },
    {
     "name": "stdout",
     "output_type": "stream",
     "text": [
      "Training accuracy: 0.8759732842445374\n",
      "Training loss: 0.9688833951950073\n",
      "Validation accuracy: 0.8734085559844971\n",
      "Validation loss: 0.9849368333816528\n",
      "Epoch: 9\n"
     ]
    },
    {
     "name": "stderr",
     "output_type": "stream",
     "text": [
      "901it [02:20,  6.41it/s]\n"
     ]
    },
    {
     "name": "stdout",
     "output_type": "stream",
     "text": [
      "Training accuracy: 0.881145715713501\n",
      "Training loss: 0.962029755115509\n",
      "Validation accuracy: 0.864791214466095\n",
      "Validation loss: 0.9859438538551331\n",
      "Split: 3\n"
     ]
    },
    {
     "name": "stderr",
     "output_type": "stream",
     "text": [
      "2it [00:00, 11.58it/s]"
     ]
    },
    {
     "name": "stdout",
     "output_type": "stream",
     "text": [
      "Epoch: 0\n"
     ]
    },
    {
     "name": "stderr",
     "output_type": "stream",
     "text": [
      "901it [02:07,  7.09it/s]\n",
      "0it [00:00, ?it/s]"
     ]
    },
    {
     "name": "stdout",
     "output_type": "stream",
     "text": [
      "Training accuracy: 0.61815345287323\n",
      "Training loss: 1.3470797538757324\n",
      "Validation accuracy: 0.7785623073577881\n",
      "Validation loss: 1.1477216482162476\n",
      "Epoch: 1\n"
     ]
    },
    {
     "name": "stderr",
     "output_type": "stream",
     "text": [
      "901it [02:18,  6.49it/s]\n",
      "2it [00:00, 12.38it/s]"
     ]
    },
    {
     "name": "stdout",
     "output_type": "stream",
     "text": [
      "Training accuracy: 0.838620662689209\n",
      "Training loss: 1.0034639835357666\n",
      "Validation accuracy: 0.8261522054672241\n",
      "Validation loss: 1.0127010345458984\n",
      "Epoch: 2\n"
     ]
    },
    {
     "name": "stderr",
     "output_type": "stream",
     "text": [
      "901it [02:05,  7.16it/s]\n",
      "0it [00:00, ?it/s]"
     ]
    },
    {
     "name": "stdout",
     "output_type": "stream",
     "text": [
      "Training accuracy: 0.8554727435112\n",
      "Training loss: 0.9653735756874084\n",
      "Validation accuracy: 0.837215781211853\n",
      "Validation loss: 0.994674563407898\n",
      "Epoch: 3\n"
     ]
    },
    {
     "name": "stderr",
     "output_type": "stream",
     "text": [
      "901it [02:00,  7.48it/s]\n",
      "2it [00:00, 11.80it/s]"
     ]
    },
    {
     "name": "stdout",
     "output_type": "stream",
     "text": [
      "Training accuracy: 0.8590100407600403\n",
      "Training loss: 0.9565171003341675\n",
      "Validation accuracy: 0.8516150712966919\n",
      "Validation loss: 0.9739634990692139\n",
      "Epoch: 4\n"
     ]
    },
    {
     "name": "stderr",
     "output_type": "stream",
     "text": [
      "901it [01:57,  7.65it/s]\n",
      "2it [00:00, 10.26it/s]"
     ]
    },
    {
     "name": "stdout",
     "output_type": "stream",
     "text": [
      "Training accuracy: 0.8605005741119385\n",
      "Training loss: 0.9489232301712036\n",
      "Validation accuracy: 0.8548951745033264\n",
      "Validation loss: 0.9661468863487244\n",
      "Epoch: 5\n"
     ]
    },
    {
     "name": "stderr",
     "output_type": "stream",
     "text": [
      "901it [01:58,  7.61it/s]\n",
      "2it [00:00, 10.28it/s]"
     ]
    },
    {
     "name": "stdout",
     "output_type": "stream",
     "text": [
      "Training accuracy: 0.8614126443862915\n",
      "Training loss: 0.9481722712516785\n",
      "Validation accuracy: 0.8468894362449646\n",
      "Validation loss: 0.9727153182029724\n",
      "Epoch: 6\n"
     ]
    },
    {
     "name": "stderr",
     "output_type": "stream",
     "text": [
      "901it [01:58,  7.63it/s]\n",
      "2it [00:00, 11.38it/s]"
     ]
    },
    {
     "name": "stdout",
     "output_type": "stream",
     "text": [
      "Training accuracy: 0.8613458871841431\n",
      "Training loss: 0.9432447552680969\n",
      "Validation accuracy: 0.8517818450927734\n",
      "Validation loss: 0.958952784538269\n",
      "Epoch: 7\n"
     ]
    },
    {
     "name": "stderr",
     "output_type": "stream",
     "text": [
      "901it [02:04,  7.22it/s]\n",
      "2it [00:00, 10.71it/s]"
     ]
    },
    {
     "name": "stdout",
     "output_type": "stream",
     "text": [
      "Training accuracy: 0.8624026775360107\n",
      "Training loss: 0.9399082660675049\n",
      "Validation accuracy: 0.8540056943893433\n",
      "Validation loss: 0.9602863192558289\n",
      "Epoch: 8\n"
     ]
    },
    {
     "name": "stderr",
     "output_type": "stream",
     "text": [
      "901it [02:18,  6.50it/s]\n",
      "2it [00:00, 11.94it/s]"
     ]
    },
    {
     "name": "stdout",
     "output_type": "stream",
     "text": [
      "Training accuracy: 0.863092303276062\n",
      "Training loss: 0.9371693134307861\n",
      "Validation accuracy: 0.8532273173332214\n",
      "Validation loss: 0.9553122520446777\n",
      "Epoch: 9\n"
     ]
    },
    {
     "name": "stderr",
     "output_type": "stream",
     "text": [
      "901it [02:11,  6.87it/s]\n"
     ]
    },
    {
     "name": "stdout",
     "output_type": "stream",
     "text": [
      "Training accuracy: 0.8607452511787415\n",
      "Training loss: 0.9408138394355774\n",
      "Validation accuracy: 0.842219352722168\n",
      "Validation loss: 0.9612152576446533\n",
      "Split: 4\n"
     ]
    },
    {
     "name": "stderr",
     "output_type": "stream",
     "text": [
      "2it [00:00, 11.23it/s]"
     ]
    },
    {
     "name": "stdout",
     "output_type": "stream",
     "text": [
      "Epoch: 0\n"
     ]
    },
    {
     "name": "stderr",
     "output_type": "stream",
     "text": [
      "901it [01:56,  7.75it/s]\n",
      "2it [00:00, 11.19it/s]"
     ]
    },
    {
     "name": "stdout",
     "output_type": "stream",
     "text": [
      "Training accuracy: 0.5940934419631958\n",
      "Training loss: 1.3903923034667969\n",
      "Validation accuracy: 0.782120406627655\n",
      "Validation loss: 1.1528294086456299\n",
      "Epoch: 1\n"
     ]
    },
    {
     "name": "stderr",
     "output_type": "stream",
     "text": [
      "901it [02:04,  7.24it/s]\n",
      "0it [00:00, ?it/s]"
     ]
    },
    {
     "name": "stdout",
     "output_type": "stream",
     "text": [
      "Training accuracy: 0.8394771814346313\n",
      "Training loss: 1.027078628540039\n",
      "Validation accuracy: 0.8382720947265625\n",
      "Validation loss: 1.036746859550476\n",
      "Epoch: 2\n"
     ]
    },
    {
     "name": "stderr",
     "output_type": "stream",
     "text": [
      "901it [01:58,  7.62it/s]\n",
      "0it [00:00, ?it/s]"
     ]
    },
    {
     "name": "stdout",
     "output_type": "stream",
     "text": [
      "Training accuracy: 0.864827573299408\n",
      "Training loss: 0.9877192378044128\n",
      "Validation accuracy: 0.8461666703224182\n",
      "Validation loss: 1.0293521881103516\n",
      "Epoch: 3\n"
     ]
    },
    {
     "name": "stderr",
     "output_type": "stream",
     "text": [
      "901it [01:57,  7.70it/s]\n",
      "2it [00:00, 10.69it/s]"
     ]
    },
    {
     "name": "stdout",
     "output_type": "stream",
     "text": [
      "Training accuracy: 0.8746940493583679\n",
      "Training loss: 0.9719800353050232\n",
      "Validation accuracy: 0.8686273694038391\n",
      "Validation loss: 0.9884239435195923\n",
      "Epoch: 4\n"
     ]
    },
    {
     "name": "stderr",
     "output_type": "stream",
     "text": [
      "901it [01:56,  7.73it/s]\n",
      "2it [00:00, 10.63it/s]"
     ]
    },
    {
     "name": "stdout",
     "output_type": "stream",
     "text": [
      "Training accuracy: 0.8888097405433655\n",
      "Training loss: 0.9555898904800415\n",
      "Validation accuracy: 0.8739645481109619\n",
      "Validation loss: 0.9778128862380981\n",
      "Epoch: 5\n"
     ]
    },
    {
     "name": "stderr",
     "output_type": "stream",
     "text": [
      "901it [02:02,  7.33it/s]\n",
      "0it [00:00, ?it/s]"
     ]
    },
    {
     "name": "stdout",
     "output_type": "stream",
     "text": [
      "Training accuracy: 0.891468346118927\n",
      "Training loss: 0.9507279992103577\n",
      "Validation accuracy: 0.88213711977005\n",
      "Validation loss: 0.9642571806907654\n",
      "Epoch: 6\n"
     ]
    },
    {
     "name": "stderr",
     "output_type": "stream",
     "text": [
      "901it [02:02,  7.39it/s]\n",
      "0it [00:00, ?it/s]"
     ]
    },
    {
     "name": "stdout",
     "output_type": "stream",
     "text": [
      "Training accuracy: 0.8952947854995728\n",
      "Training loss: 0.948898434638977\n",
      "Validation accuracy: 0.884249746799469\n",
      "Validation loss: 0.9675635695457458\n",
      "Epoch: 7\n"
     ]
    },
    {
     "name": "stderr",
     "output_type": "stream",
     "text": [
      "901it [01:57,  7.66it/s]\n",
      "2it [00:00, 11.22it/s]"
     ]
    },
    {
     "name": "stdout",
     "output_type": "stream",
     "text": [
      "Training accuracy: 0.8912346959114075\n",
      "Training loss: 0.9487499594688416\n",
      "Validation accuracy: 0.8835269808769226\n",
      "Validation loss: 0.9609959125518799\n",
      "Epoch: 8\n"
     ]
    },
    {
     "name": "stderr",
     "output_type": "stream",
     "text": [
      "901it [01:56,  7.71it/s]\n",
      "0it [00:00, ?it/s]"
     ]
    },
    {
     "name": "stdout",
     "output_type": "stream",
     "text": [
      "Training accuracy: 0.8933815360069275\n",
      "Training loss: 0.9458463788032532\n",
      "Validation accuracy: 0.8795797228813171\n",
      "Validation loss: 0.968978762626648\n",
      "Epoch: 9\n"
     ]
    },
    {
     "name": "stderr",
     "output_type": "stream",
     "text": [
      "901it [01:57,  7.65it/s]\n"
     ]
    },
    {
     "name": "stdout",
     "output_type": "stream",
     "text": [
      "Training accuracy: 0.8939710259437561\n",
      "Training loss: 0.9431775808334351\n",
      "Validation accuracy: 0.8815255165100098\n",
      "Validation loss: 0.9644759893417358\n"
     ]
    }
   ],
   "source": [
    "# Train data\n",
    "from sklearn.model_selection import KFold\n",
    "\n",
    "kf = KFold(n_splits=5, shuffle=True)\n",
    "\n",
    "cv_accuracy_val = []\n",
    "cv_loss_val = []\n",
    "\n",
    "split_num = 0\n",
    "for train_index, test_index in kf.split(X):\n",
    "    \n",
    "    # reset the network parameters\n",
    "    sess.run(init)\n",
    "    \n",
    "    print(\"Split: {}\".format(split_num))\n",
    "    split_num += 1\n",
    "    \n",
    "    X_train, X_test = X[train_index], X[test_index]\n",
    "    y_train, y_test = y[train_index], y[test_index]\n",
    "    \n",
    "    # around 2 minutes per epoch\n",
    "    for e in range(epochs):\n",
    "        print(\"Epoch: {}\".format(e))\n",
    "        pairs = zip(np.split(X, indices_or_sections=np.arange(0, len(X), batch_size)), \n",
    "                                    np.split(y, indices_or_sections=np.arange(0, len(X), batch_size)))\n",
    "        train_acc = []\n",
    "        train_loss = []\n",
    "        for batch_x, batch_y in tqdm(pairs):\n",
    "            if len(batch_x)==batch_size:\n",
    "                feed_dict = {train_inputs: batch_x, train_labels: batch_y}\n",
    "                _, train_l, train_a = sess.run([train_step, loss, acc], feed_dict=feed_dict)\n",
    "                train_acc.append(train_a)\n",
    "                train_loss.append(train_l)\n",
    "        \n",
    "        val_acc, val_loss = sess.run([acc, loss], feed_dict={train_inputs: X_test, train_labels: y_test})\n",
    "        \n",
    "        print(\"Training accuracy: {}\".format(np.mean(train_acc)))\n",
    "        print(\"Training loss: {}\".format(np.mean(train_loss)))\n",
    "        print(\"Validation accuracy: {}\".format(val_acc))\n",
    "        print(\"Validation loss: {}\".format(val_loss))\n",
    "    \n",
    "    cv_loss_val.append(val_loss)\n",
    "    cv_accuracy_val.append(val_acc)"
   ]
  },
  {
   "cell_type": "code",
   "execution_count": 11,
   "metadata": {
    "collapsed": false
   },
   "outputs": [
    {
     "name": "stdout",
     "output_type": "stream",
     "text": [
      "CV Accuracy: 0.9641767740249634\n",
      "CV Loss: 0.8712984919548035\n"
     ]
    }
   ],
   "source": [
    "print(\"CV Accuracy: {}\".format(np.mean(cv_loss_val)))\n",
    "print(\"CV Loss: {}\".format(np.mean(cv_accuracy_val)))"
   ]
  },
  {
   "cell_type": "code",
   "execution_count": 16,
   "metadata": {
    "collapsed": false,
    "scrolled": true
   },
   "outputs": [],
   "source": [
    "# Saved Model, DO NOT RERUN\n",
    "# save_dir = \"../models/\"\n",
    "# model_name = \"10_class_1_layerconv_89%\"\n",
    "# saver = tf.train.Saver()\n",
    "# saver.save(sess, save_dir+model_name)"
   ]
  },
  {
   "cell_type": "code",
   "execution_count": 17,
   "metadata": {
    "collapsed": false,
    "scrolled": true
   },
   "outputs": [
    {
     "name": "stdout",
     "output_type": "stream",
     "text": [
      "INFO:tensorflow:Restoring parameters from ../models/10_class_1_layerconv_89%\n"
     ]
    }
   ],
   "source": [
    "# restore model\n",
    "saver = tf.train.Saver()\n",
    "saver.restore(sess, \"../models/10_class_1_layerconv_89%\")"
   ]
  },
  {
   "cell_type": "code",
   "execution_count": 18,
   "metadata": {
    "collapsed": false,
    "scrolled": true
   },
   "outputs": [
    {
     "data": {
      "text/plain": [
       "[0.89999998, 0.9561885]"
      ]
     },
     "execution_count": 18,
     "metadata": {},
     "output_type": "execute_result"
    }
   ],
   "source": [
    "sess.run([acc, loss], feed_dict={train_inputs: X[:1000], train_labels: y[:1000]})"
   ]
  },
  {
   "cell_type": "code",
   "execution_count": 19,
   "metadata": {
    "collapsed": false
   },
   "outputs": [],
   "source": [
    "# Extract the embeddings and save them\n",
    "\n",
    "[char_embeddings] = sess.run([embeddings])\n",
    "\n",
    "# save these to a file\n",
    "np.save(\"../outputs/10_user_Nov11_embeddings.npy\", char_embeddings)"
   ]
  },
  {
   "cell_type": "code",
   "execution_count": null,
   "metadata": {
    "collapsed": true
   },
   "outputs": [],
   "source": []
  }
 ],
 "metadata": {
  "anaconda-cloud": {},
  "kernelspec": {
   "display_name": "Python [conda root]",
   "language": "python",
   "name": "conda-root-py"
  },
  "language_info": {
   "codemirror_mode": {
    "name": "ipython",
    "version": 3
   },
   "file_extension": ".py",
   "mimetype": "text/x-python",
   "name": "python",
   "nbconvert_exporter": "python",
   "pygments_lexer": "ipython3",
   "version": "3.5.2"
  }
 },
 "nbformat": 4,
 "nbformat_minor": 2
}
