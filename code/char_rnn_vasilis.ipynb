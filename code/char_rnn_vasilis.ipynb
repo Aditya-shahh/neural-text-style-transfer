{
 "cells": [
  {
   "cell_type": "code",
   "execution_count": 91,
   "metadata": {
    "collapsed": true
   },
   "outputs": [],
   "source": [
    "import numpy as np\n",
    "import pandas as pd\n",
    "import tensorflow as tf\n",
    "import matplotlib.pyplot as plt\n",
    "from tqdm import tqdm\n",
    "plt.style.use('fivethirtyeight')\n",
    "\n",
    "%matplotlib inline"
   ]
  },
  {
   "cell_type": "code",
   "execution_count": 116,
   "metadata": {
    "collapsed": false
   },
   "outputs": [],
   "source": [
    "input_X = np.load(\"../outputs/10_user_X_Nov_11.npy\")\n",
    "input_y = np.load(\"../outputs/10_user_y_Nov_11.npy\")\n",
    "\n",
    "# put X in the right format\n",
    "X = np.array([_ for _ in input_X])\n",
    "\n",
    "# put y in the right format\n",
    "def ohe(n):\n",
    "    vec = np.zeros(num_classes_for_prediction)\n",
    "    vec[n] = 1\n",
    "    return vec\n",
    "\n",
    "y = np.array([ohe(n) for n in input_y])\n",
    "\n",
    "# constants\n",
    "vocab_size = 254\n",
    "embedding_dims = 300\n",
    "tweet_size = 140\n",
    "batch_size = 100\n",
    "num_classes_for_prediction = 10"
   ]
  },
  {
   "cell_type": "code",
   "execution_count": 121,
   "metadata": {
    "collapsed": false
   },
   "outputs": [],
   "source": [
    "# Model\n",
    "\n",
    "# Placeholders for inputs\n",
    "train_inputs = tf.placeholder(tf.int32, shape=[None, tweet_size], name='train_inputs')\n",
    "train_labels = tf.placeholder(tf.int32, shape=[None, num_classes_for_prediction], name='train_labels')\n",
    "\n",
    "# Create the embedding matrix\n",
    "embeddings = tf.Variable(tf.random_uniform([vocab_size, embedding_dims], -1.0, 1.0), name='embeddings')\n",
    "\n",
    "# Extract the character embeddings for the tweet\n",
    "embed =  tf.reshape(tf.nn.embedding_lookup(embeddings, train_inputs), [-1, tweet_size, embedding_dims, 1],\n",
    "                    name='embed')\n",
    "\n",
    "# The convolutional part\n",
    "n_gram = 2\n",
    "num_filters = 32\n",
    "W_conv = tf.Variable(tf.truncated_normal([n_gram, embedding_size, 1, num_filters], stddev=0.05), name=\"W_conv\")\n",
    "b_conv = tf.Variable(tf.constant(0.1, shape=[num_filters]), name=\"b_conv\")\n",
    "\n",
    "conv = tf.nn.conv2d(\n",
    "        embed,\n",
    "        W_conv, \n",
    "        strides=[1, 1, 1, 1], \n",
    "        padding=\"VALID\", \n",
    "        name=\"convolution\")\n",
    "\n",
    "h = tf.nn.tanh(tf.nn.bias_add(conv, b_conv), name=\"relu\")\n",
    "\n",
    "pooled = tf.nn.max_pool(\n",
    "        h,\n",
    "        ksize=[1, h.get_shape()[1].value, 1, 1],\n",
    "        strides=[1, 1, 1, 1],\n",
    "        padding='VALID',\n",
    "        name=\"max_pool\")\n",
    "\n",
    "# reshape and add FC\n",
    "h_pool_flat = tf.reshape(pooled, [-1, num_filters], name='flatten')\n",
    "\n",
    "W_fc = tf.Variable(tf.truncated_normal([num_filters, num_classes_for_prediction], stddev=0.05), name=\"W_fc\")\n",
    "b_fc = tf.Variable(tf.constant(0.1, shape=[num_classes_for_prediction]), name=\"b_fc\")\n",
    "fc_output = tf.nn.tanh(tf.matmul(h_pool_flat, W_fc) + b_fc, name=\"fc\")\n",
    "\n",
    "# cross entropy loss function\n",
    "loss = tf.reduce_mean(\n",
    "    tf.nn.softmax_cross_entropy_with_logits(\n",
    "    _sentinel=None,\n",
    "    labels=train_labels,\n",
    "    logits=fc_output,\n",
    "    dim=-1,\n",
    "    name='loss'\n",
    "))\n",
    "\n",
    "preds = tf.argmax(fc_output, 1, name='predictions')\n",
    "true_vals = tf.argmax(train_labels, 1, name='true_vals')\n",
    "acc = tf.reduce_mean(tf.cast(tf.equal(preds, true_vals), tf.float32), name = 'acc')\n",
    "\n",
    "# SGD optimizer\n",
    "learning_rate = 0.5\n",
    "optimizer = tf.train.GradientDescentOptimizer(learning_rate=learning_rate, name='optimizer')\n",
    "train_step = optimizer.minimize(loss, name='train_step')"
   ]
  },
  {
   "cell_type": "code",
   "execution_count": 123,
   "metadata": {
    "collapsed": false,
    "scrolled": true
   },
   "outputs": [
    {
     "name": "stdout",
     "output_type": "stream",
     "text": [
      "Split: 0\n"
     ]
    },
    {
     "name": "stderr",
     "output_type": "stream",
     "text": [
      "\n",
      "0it [00:00, ?it/s]\u001b[A\n",
      "2it [00:00, 10.90it/s]"
     ]
    },
    {
     "name": "stdout",
     "output_type": "stream",
     "text": [
      "Epoch: 0\n"
     ]
    },
    {
     "name": "stderr",
     "output_type": "stream",
     "text": [
      "\u001b[A\n",
      "3it [00:00,  8.59it/s]\u001b[A\n",
      "4it [00:00,  7.75it/s]\u001b[A\n",
      "901it [02:19,  6.45it/s]\n",
      "2it [00:00, 10.41it/s]"
     ]
    },
    {
     "name": "stdout",
     "output_type": "stream",
     "text": [
      "Training accuracy: 0.5461957454681396\n",
      "Training loss: 1.4615281820297241\n",
      "Validation accuracy: 0.7407160401344299\n",
      "Validation loss: 1.212755560874939\n",
      "Epoch: 1\n"
     ]
    },
    {
     "name": "stderr",
     "output_type": "stream",
     "text": [
      "901it [01:57,  7.65it/s]\n",
      "2it [00:00, 10.67it/s]"
     ]
    },
    {
     "name": "stdout",
     "output_type": "stream",
     "text": [
      "Training accuracy: 0.8291323781013489\n",
      "Training loss: 1.027664065361023\n",
      "Validation accuracy: 0.8274405002593994\n",
      "Validation loss: 1.0525691509246826\n",
      "Epoch: 2\n"
     ]
    },
    {
     "name": "stderr",
     "output_type": "stream",
     "text": [
      "901it [02:01,  7.39it/s]\n",
      "0it [00:00, ?it/s]"
     ]
    },
    {
     "name": "stdout",
     "output_type": "stream",
     "text": [
      "Training accuracy: 0.8638153076171875\n",
      "Training loss: 0.9887802600860596\n",
      "Validation accuracy: 0.8582388162612915\n",
      "Validation loss: 1.003404974937439\n",
      "Epoch: 3\n"
     ]
    },
    {
     "name": "stderr",
     "output_type": "stream",
     "text": [
      "901it [02:01,  7.39it/s]\n",
      "2it [00:00, 11.60it/s]"
     ]
    },
    {
     "name": "stdout",
     "output_type": "stream",
     "text": [
      "Training accuracy: 0.8763848543167114\n",
      "Training loss: 0.966989278793335\n",
      "Validation accuracy: 0.8681899309158325\n",
      "Validation loss: 0.9866589903831482\n",
      "Epoch: 4\n"
     ]
    },
    {
     "name": "stderr",
     "output_type": "stream",
     "text": [
      "901it [01:57,  7.70it/s]\n",
      "2it [00:00, 10.84it/s]"
     ]
    },
    {
     "name": "stdout",
     "output_type": "stream",
     "text": [
      "Training accuracy: 0.881557285785675\n",
      "Training loss: 0.956000030040741\n",
      "Validation accuracy: 0.8640760779380798\n",
      "Validation loss: 0.9864280223846436\n",
      "Epoch: 5\n"
     ]
    },
    {
     "name": "stderr",
     "output_type": "stream",
     "text": [
      "901it [01:54,  7.84it/s]\n",
      "2it [00:00, 11.22it/s]"
     ]
    },
    {
     "name": "stdout",
     "output_type": "stream",
     "text": [
      "Training accuracy: 0.8831478953361511\n",
      "Training loss: 0.9535114169120789\n",
      "Validation accuracy: 0.876306414604187\n",
      "Validation loss: 0.9722139239311218\n",
      "Epoch: 6\n"
     ]
    },
    {
     "name": "stderr",
     "output_type": "stream",
     "text": [
      "901it [01:54,  7.86it/s]\n",
      "2it [00:00, 11.15it/s]"
     ]
    },
    {
     "name": "stdout",
     "output_type": "stream",
     "text": [
      "Training accuracy: 0.886184573173523\n",
      "Training loss: 0.9473307728767395\n",
      "Validation accuracy: 0.879141628742218\n",
      "Validation loss: 0.963797926902771\n",
      "Epoch: 7\n"
     ]
    },
    {
     "name": "stderr",
     "output_type": "stream",
     "text": [
      "901it [01:54,  7.86it/s]\n",
      "0it [00:00, ?it/s]"
     ]
    },
    {
     "name": "stdout",
     "output_type": "stream",
     "text": [
      "Training accuracy: 0.8891656994819641\n",
      "Training loss: 0.9419391751289368\n",
      "Validation accuracy: 0.8811429738998413\n",
      "Validation loss: 0.9590504765510559\n",
      "Epoch: 8\n"
     ]
    },
    {
     "name": "stderr",
     "output_type": "stream",
     "text": [
      "901it [01:55,  7.83it/s]\n",
      "2it [00:00, 11.89it/s]"
     ]
    },
    {
     "name": "stdout",
     "output_type": "stream",
     "text": [
      "Training accuracy: 0.8904560804367065\n",
      "Training loss: 0.9388896226882935\n",
      "Validation accuracy: 0.886035144329071\n",
      "Validation loss: 0.9540703892707825\n",
      "Epoch: 9\n"
     ]
    },
    {
     "name": "stderr",
     "output_type": "stream",
     "text": [
      "901it [01:54,  7.84it/s]\n"
     ]
    },
    {
     "name": "stdout",
     "output_type": "stream",
     "text": [
      "Training accuracy: 0.8915016055107117\n",
      "Training loss: 0.9360828399658203\n",
      "Validation accuracy: 0.8895374536514282\n",
      "Validation loss: 0.9462878704071045\n",
      "Split: 1\n"
     ]
    },
    {
     "name": "stderr",
     "output_type": "stream",
     "text": [
      "2it [00:00, 12.54it/s]"
     ]
    },
    {
     "name": "stdout",
     "output_type": "stream",
     "text": [
      "Epoch: 0\n"
     ]
    },
    {
     "name": "stderr",
     "output_type": "stream",
     "text": [
      "901it [01:53,  7.95it/s]\n",
      "2it [00:00, 10.89it/s]"
     ]
    },
    {
     "name": "stdout",
     "output_type": "stream",
     "text": [
      "Training accuracy: 0.6161290407180786\n",
      "Training loss: 1.3511261940002441\n",
      "Validation accuracy: 0.7628418803215027\n",
      "Validation loss: 1.156402826309204\n",
      "Epoch: 1\n"
     ]
    },
    {
     "name": "stderr",
     "output_type": "stream",
     "text": [
      "901it [01:54,  7.90it/s]\n",
      "2it [00:00, 10.81it/s]"
     ]
    },
    {
     "name": "stdout",
     "output_type": "stream",
     "text": [
      "Training accuracy: 0.8369632959365845\n",
      "Training loss: 1.0207974910736084\n",
      "Validation accuracy: 0.8311096429824829\n",
      "Validation loss: 1.0593100786209106\n",
      "Epoch: 2\n"
     ]
    },
    {
     "name": "stderr",
     "output_type": "stream",
     "text": [
      "901it [01:54,  7.85it/s]\n",
      "2it [00:00, 13.18it/s]"
     ]
    },
    {
     "name": "stdout",
     "output_type": "stream",
     "text": [
      "Training accuracy: 0.8611346483230591\n",
      "Training loss: 0.9925585389137268\n",
      "Validation accuracy: 0.8428952693939209\n",
      "Validation loss: 1.040560007095337\n",
      "Epoch: 3\n"
     ]
    },
    {
     "name": "stderr",
     "output_type": "stream",
     "text": [
      "901it [01:52,  7.99it/s]\n",
      "2it [00:00, 12.83it/s]"
     ]
    },
    {
     "name": "stdout",
     "output_type": "stream",
     "text": [
      "Training accuracy: 0.8504226803779602\n",
      "Training loss: 0.993270218372345\n",
      "Validation accuracy: 0.8008672595024109\n",
      "Validation loss: 1.0588098764419556\n",
      "Epoch: 4\n"
     ]
    },
    {
     "name": "stderr",
     "output_type": "stream",
     "text": [
      "901it [01:54,  7.89it/s]\n",
      "2it [00:00, 12.82it/s]"
     ]
    },
    {
     "name": "stdout",
     "output_type": "stream",
     "text": [
      "Training accuracy: 0.843437135219574\n",
      "Training loss: 0.9967703223228455\n",
      "Validation accuracy: 0.8250500559806824\n",
      "Validation loss: 1.0219192504882812\n",
      "Epoch: 5\n"
     ]
    },
    {
     "name": "stderr",
     "output_type": "stream",
     "text": [
      "901it [01:56,  7.76it/s]\n",
      "2it [00:00, 12.97it/s]"
     ]
    },
    {
     "name": "stdout",
     "output_type": "stream",
     "text": [
      "Training accuracy: 0.848921000957489\n",
      "Training loss: 0.9841808676719666\n",
      "Validation accuracy: 0.8305537104606628\n",
      "Validation loss: 1.0075987577438354\n",
      "Epoch: 6\n"
     ]
    },
    {
     "name": "stderr",
     "output_type": "stream",
     "text": [
      "901it [01:55,  7.79it/s]\n",
      "2it [00:00, 12.39it/s]"
     ]
    },
    {
     "name": "stdout",
     "output_type": "stream",
     "text": [
      "Training accuracy: 0.8531368374824524\n",
      "Training loss: 0.978078305721283\n",
      "Validation accuracy: 0.8372248411178589\n",
      "Validation loss: 0.9991382956504822\n",
      "Epoch: 7\n"
     ]
    },
    {
     "name": "stderr",
     "output_type": "stream",
     "text": [
      "901it [01:55,  7.77it/s]\n",
      "2it [00:00, 13.11it/s]"
     ]
    },
    {
     "name": "stdout",
     "output_type": "stream",
     "text": [
      "Training accuracy: 0.8529588580131531\n",
      "Training loss: 0.9704991579055786\n",
      "Validation accuracy: 0.8385590314865112\n",
      "Validation loss: 0.9799866676330566\n",
      "Epoch: 8\n"
     ]
    },
    {
     "name": "stderr",
     "output_type": "stream",
     "text": [
      "901it [01:52,  7.98it/s]\n",
      "2it [00:00, 13.14it/s]"
     ]
    },
    {
     "name": "stdout",
     "output_type": "stream",
     "text": [
      "Training accuracy: 0.8579866290092468\n",
      "Training loss: 0.9562153220176697\n",
      "Validation accuracy: 0.846286416053772\n",
      "Validation loss: 0.9743996262550354\n",
      "Epoch: 9\n"
     ]
    },
    {
     "name": "stderr",
     "output_type": "stream",
     "text": [
      "901it [01:52,  7.99it/s]\n"
     ]
    },
    {
     "name": "stdout",
     "output_type": "stream",
     "text": [
      "Training accuracy: 0.8635817170143127\n",
      "Training loss: 0.9509697556495667\n",
      "Validation accuracy: 0.8490104675292969\n",
      "Validation loss: 0.9665677547454834\n",
      "Split: 2\n"
     ]
    },
    {
     "name": "stderr",
     "output_type": "stream",
     "text": [
      "2it [00:00, 14.43it/s]"
     ]
    },
    {
     "name": "stdout",
     "output_type": "stream",
     "text": [
      "Epoch: 0\n"
     ]
    },
    {
     "name": "stderr",
     "output_type": "stream",
     "text": [
      "901it [01:52,  8.04it/s]\n",
      "2it [00:00, 12.05it/s]"
     ]
    },
    {
     "name": "stdout",
     "output_type": "stream",
     "text": [
      "Training accuracy: 0.594115674495697\n",
      "Training loss: 1.386894702911377\n",
      "Validation accuracy: 0.7476511001586914\n",
      "Validation loss: 1.2096672058105469\n",
      "Epoch: 1\n"
     ]
    },
    {
     "name": "stderr",
     "output_type": "stream",
     "text": [
      "901it [01:53,  7.94it/s]\n",
      "2it [00:00, 13.11it/s]"
     ]
    },
    {
     "name": "stdout",
     "output_type": "stream",
     "text": [
      "Training accuracy: 0.8341713547706604\n",
      "Training loss: 1.0008893013000488\n",
      "Validation accuracy: 0.8217601776123047\n",
      "Validation loss: 1.0262651443481445\n",
      "Epoch: 2\n"
     ]
    },
    {
     "name": "stderr",
     "output_type": "stream",
     "text": [
      "901it [01:53,  7.94it/s]\n",
      "2it [00:00, 12.38it/s]"
     ]
    },
    {
     "name": "stdout",
     "output_type": "stream",
     "text": [
      "Training accuracy: 0.858787477016449\n",
      "Training loss: 0.9684942960739136\n",
      "Validation accuracy: 0.8536720871925354\n",
      "Validation loss: 1.0003989934921265\n",
      "Epoch: 3\n"
     ]
    },
    {
     "name": "stderr",
     "output_type": "stream",
     "text": [
      "901it [01:52,  8.03it/s]\n",
      "2it [00:00, 12.59it/s]"
     ]
    },
    {
     "name": "stdout",
     "output_type": "stream",
     "text": [
      "Training accuracy: 0.8803114891052246\n",
      "Training loss: 0.9523367285728455\n",
      "Validation accuracy: 0.8720742464065552\n",
      "Validation loss: 0.9802219271659851\n",
      "Epoch: 4\n"
     ]
    },
    {
     "name": "stderr",
     "output_type": "stream",
     "text": [
      "901it [01:52,  8.02it/s]\n",
      "2it [00:00, 12.63it/s]"
     ]
    },
    {
     "name": "stdout",
     "output_type": "stream",
     "text": [
      "Training accuracy: 0.9022358059883118\n",
      "Training loss: 0.9422295093536377\n",
      "Validation accuracy: 0.8977038860321045\n",
      "Validation loss: 0.9592857956886292\n",
      "Epoch: 5\n"
     ]
    },
    {
     "name": "stderr",
     "output_type": "stream",
     "text": [
      "901it [01:52,  8.01it/s]\n",
      "2it [00:00, 12.87it/s]"
     ]
    },
    {
     "name": "stdout",
     "output_type": "stream",
     "text": [
      "Training accuracy: 0.9084426760673523\n",
      "Training loss: 0.935362696647644\n",
      "Validation accuracy: 0.9016512036323547\n",
      "Validation loss: 0.955308198928833\n",
      "Epoch: 6\n"
     ]
    },
    {
     "name": "stderr",
     "output_type": "stream",
     "text": [
      "901it [01:52,  8.02it/s]\n",
      "2it [00:00, 11.17it/s]"
     ]
    },
    {
     "name": "stdout",
     "output_type": "stream",
     "text": [
      "Training accuracy: 0.9122469425201416\n",
      "Training loss: 0.9304901361465454\n",
      "Validation accuracy: 0.9073219299316406\n",
      "Validation loss: 0.9431096315383911\n",
      "Epoch: 7\n"
     ]
    },
    {
     "name": "stderr",
     "output_type": "stream",
     "text": [
      "901it [01:52,  8.02it/s]\n",
      "2it [00:00, 12.68it/s]"
     ]
    },
    {
     "name": "stdout",
     "output_type": "stream",
     "text": [
      "Training accuracy: 0.9143938422203064\n",
      "Training loss: 0.9274848103523254\n",
      "Validation accuracy: 0.9103797078132629\n",
      "Validation loss: 0.9429858326911926\n",
      "Epoch: 8\n"
     ]
    },
    {
     "name": "stderr",
     "output_type": "stream",
     "text": [
      "901it [01:52,  8.03it/s]\n",
      "2it [00:00, 13.06it/s]"
     ]
    },
    {
     "name": "stdout",
     "output_type": "stream",
     "text": [
      "Training accuracy: 0.9184648990631104\n",
      "Training loss: 0.925246000289917\n",
      "Validation accuracy: 0.9143826365470886\n",
      "Validation loss: 0.9346883893013\n",
      "Epoch: 9\n"
     ]
    },
    {
     "name": "stderr",
     "output_type": "stream",
     "text": [
      "901it [01:52,  8.04it/s]\n"
     ]
    },
    {
     "name": "stdout",
     "output_type": "stream",
     "text": [
      "Training accuracy: 0.9210678339004517\n",
      "Training loss: 0.922893762588501\n",
      "Validation accuracy: 0.9145494103431702\n",
      "Validation loss: 0.9323629140853882\n",
      "Split: 3\n"
     ]
    },
    {
     "name": "stderr",
     "output_type": "stream",
     "text": [
      "2it [00:00, 14.03it/s]"
     ]
    },
    {
     "name": "stdout",
     "output_type": "stream",
     "text": [
      "Epoch: 0\n"
     ]
    },
    {
     "name": "stderr",
     "output_type": "stream",
     "text": [
      "901it [01:52,  8.03it/s]\n",
      "2it [00:00, 12.15it/s]"
     ]
    },
    {
     "name": "stdout",
     "output_type": "stream",
     "text": [
      "Training accuracy: 0.5508009195327759\n",
      "Training loss: 1.416293740272522\n",
      "Validation accuracy: 0.758325457572937\n",
      "Validation loss: 1.1085741519927979\n",
      "Epoch: 1\n"
     ]
    },
    {
     "name": "stderr",
     "output_type": "stream",
     "text": [
      "901it [01:53,  7.97it/s]\n",
      "2it [00:00, 13.15it/s]"
     ]
    },
    {
     "name": "stdout",
     "output_type": "stream",
     "text": [
      "Training accuracy: 0.8348943591117859\n",
      "Training loss: 1.001592993736267\n",
      "Validation accuracy: 0.840996265411377\n",
      "Validation loss: 1.028673768043518\n",
      "Epoch: 2\n"
     ]
    },
    {
     "name": "stderr",
     "output_type": "stream",
     "text": [
      "901it [01:52,  7.98it/s]\n",
      "2it [00:00, 12.14it/s]"
     ]
    },
    {
     "name": "stdout",
     "output_type": "stream",
     "text": [
      "Training accuracy: 0.8774303793907166\n",
      "Training loss: 0.9690540432929993\n",
      "Validation accuracy: 0.8751876354217529\n",
      "Validation loss: 0.9886053800582886\n",
      "Epoch: 3\n"
     ]
    },
    {
     "name": "stderr",
     "output_type": "stream",
     "text": [
      "901it [01:52,  7.98it/s]\n",
      "2it [00:00, 12.73it/s]"
     ]
    },
    {
     "name": "stdout",
     "output_type": "stream",
     "text": [
      "Training accuracy: 0.8885093927383423\n",
      "Training loss: 0.952876091003418\n",
      "Validation accuracy: 0.8804136514663696\n",
      "Validation loss: 0.973012387752533\n",
      "Epoch: 4\n"
     ]
    },
    {
     "name": "stderr",
     "output_type": "stream",
     "text": [
      "901it [01:52,  8.00it/s]\n",
      "2it [00:00, 11.76it/s]"
     ]
    },
    {
     "name": "stdout",
     "output_type": "stream",
     "text": [
      "Training accuracy: 0.8945828676223755\n",
      "Training loss: 0.9496346712112427\n",
      "Validation accuracy: 0.8799132704734802\n",
      "Validation loss: 0.9795852899551392\n",
      "Epoch: 5\n"
     ]
    },
    {
     "name": "stderr",
     "output_type": "stream",
     "text": [
      "901it [01:52,  7.99it/s]\n",
      "2it [00:00, 12.86it/s]"
     ]
    },
    {
     "name": "stdout",
     "output_type": "stream",
     "text": [
      "Training accuracy: 0.9011346101760864\n",
      "Training loss: 0.9447601437568665\n",
      "Validation accuracy: 0.886695921421051\n",
      "Validation loss: 0.9645394086837769\n",
      "Epoch: 6\n"
     ]
    },
    {
     "name": "stderr",
     "output_type": "stream",
     "text": [
      "901it [01:53,  7.97it/s]\n",
      "2it [00:00, 13.44it/s]"
     ]
    },
    {
     "name": "stdout",
     "output_type": "stream",
     "text": [
      "Training accuracy: 0.9105450510978699\n",
      "Training loss: 0.9371314644813538\n",
      "Validation accuracy: 0.8984266519546509\n",
      "Validation loss: 0.9521965980529785\n",
      "Epoch: 7\n"
     ]
    },
    {
     "name": "stderr",
     "output_type": "stream",
     "text": [
      "901it [01:52,  7.98it/s]\n",
      "2it [00:00, 13.05it/s]"
     ]
    },
    {
     "name": "stdout",
     "output_type": "stream",
     "text": [
      "Training accuracy: 0.9119132161140442\n",
      "Training loss: 0.9328557848930359\n",
      "Validation accuracy: 0.9008172750473022\n",
      "Validation loss: 0.951225757598877\n",
      "Epoch: 8\n"
     ]
    },
    {
     "name": "stderr",
     "output_type": "stream",
     "text": [
      "901it [01:53,  7.94it/s]\n",
      "2it [00:00, 11.89it/s]"
     ]
    },
    {
     "name": "stdout",
     "output_type": "stream",
     "text": [
      "Training accuracy: 0.9120355844497681\n",
      "Training loss: 0.9302917122840881\n",
      "Validation accuracy: 0.8997053503990173\n",
      "Validation loss: 0.9547163248062134\n",
      "Epoch: 9\n"
     ]
    },
    {
     "name": "stderr",
     "output_type": "stream",
     "text": [
      "901it [01:52,  7.99it/s]\n"
     ]
    },
    {
     "name": "stdout",
     "output_type": "stream",
     "text": [
      "Training accuracy: 0.9151501059532166\n",
      "Training loss: 0.9281942248344421\n",
      "Validation accuracy: 0.9032078981399536\n",
      "Validation loss: 0.9502474069595337\n",
      "Split: 4\n"
     ]
    },
    {
     "name": "stderr",
     "output_type": "stream",
     "text": [
      "2it [00:00, 12.71it/s]"
     ]
    },
    {
     "name": "stdout",
     "output_type": "stream",
     "text": [
      "Epoch: 0\n"
     ]
    },
    {
     "name": "stderr",
     "output_type": "stream",
     "text": [
      "901it [01:52,  8.01it/s]\n",
      "2it [00:00, 12.74it/s]"
     ]
    },
    {
     "name": "stdout",
     "output_type": "stream",
     "text": [
      "Training accuracy: 0.5501779317855835\n",
      "Training loss: 1.4484882354736328\n",
      "Validation accuracy: 0.7831767201423645\n",
      "Validation loss: 1.126549243927002\n",
      "Epoch: 1\n"
     ]
    },
    {
     "name": "stderr",
     "output_type": "stream",
     "text": [
      "901it [01:54,  7.90it/s]\n",
      "2it [00:00, 13.10it/s]"
     ]
    },
    {
     "name": "stdout",
     "output_type": "stream",
     "text": [
      "Training accuracy: 0.8413013815879822\n",
      "Training loss: 1.0199177265167236\n",
      "Validation accuracy: 0.8307110667228699\n",
      "Validation loss: 1.0393158197402954\n",
      "Epoch: 2\n"
     ]
    },
    {
     "name": "stderr",
     "output_type": "stream",
     "text": [
      "901it [01:53,  7.97it/s]\n",
      "2it [00:00, 12.55it/s]"
     ]
    },
    {
     "name": "stdout",
     "output_type": "stream",
     "text": [
      "Training accuracy: 0.8605338931083679\n",
      "Training loss: 0.9815506935119629\n",
      "Validation accuracy: 0.8431088924407959\n",
      "Validation loss: 1.0133068561553955\n",
      "Epoch: 3\n"
     ]
    },
    {
     "name": "stderr",
     "output_type": "stream",
     "text": [
      "901it [01:52,  8.01it/s]\n",
      "2it [00:00, 12.99it/s]"
     ]
    },
    {
     "name": "stdout",
     "output_type": "stream",
     "text": [
      "Training accuracy: 0.8710789680480957\n",
      "Training loss: 0.9646820425987244\n",
      "Validation accuracy: 0.8555623292922974\n",
      "Validation loss: 0.98955899477005\n",
      "Epoch: 4\n"
     ]
    },
    {
     "name": "stderr",
     "output_type": "stream",
     "text": [
      "901it [01:52,  8.00it/s]\n",
      "2it [00:00, 12.73it/s]"
     ]
    },
    {
     "name": "stdout",
     "output_type": "stream",
     "text": [
      "Training accuracy: 0.8779976963996887\n",
      "Training loss: 0.9526680707931519\n",
      "Validation accuracy: 0.8670706748962402\n",
      "Validation loss: 0.9757493138313293\n",
      "Epoch: 5\n"
     ]
    },
    {
     "name": "stderr",
     "output_type": "stream",
     "text": [
      "901it [01:52,  8.00it/s]\n",
      "2it [00:00, 12.46it/s]"
     ]
    },
    {
     "name": "stdout",
     "output_type": "stream",
     "text": [
      "Training accuracy: 0.8806896209716797\n",
      "Training loss: 0.9505805373191833\n",
      "Validation accuracy: 0.8673486113548279\n",
      "Validation loss: 0.9768826961517334\n",
      "Epoch: 6\n"
     ]
    },
    {
     "name": "stderr",
     "output_type": "stream",
     "text": [
      "901it [01:55,  7.78it/s]\n",
      "2it [00:00, 13.10it/s]"
     ]
    },
    {
     "name": "stdout",
     "output_type": "stream",
     "text": [
      "Training accuracy: 0.883948802947998\n",
      "Training loss: 0.943493127822876\n",
      "Validation accuracy: 0.8767443299293518\n",
      "Validation loss: 0.9582422971725464\n",
      "Epoch: 7\n"
     ]
    },
    {
     "name": "stderr",
     "output_type": "stream",
     "text": [
      "901it [01:52,  7.99it/s]\n",
      "2it [00:00, 12.89it/s]"
     ]
    },
    {
     "name": "stdout",
     "output_type": "stream",
     "text": [
      "Training accuracy: 0.8886095285415649\n",
      "Training loss: 0.938706636428833\n",
      "Validation accuracy: 0.8790793418884277\n",
      "Validation loss: 0.9576267600059509\n",
      "Epoch: 8\n"
     ]
    },
    {
     "name": "stderr",
     "output_type": "stream",
     "text": [
      "901it [01:52,  7.98it/s]\n",
      "2it [00:00, 13.32it/s]"
     ]
    },
    {
     "name": "stdout",
     "output_type": "stream",
     "text": [
      "Training accuracy: 0.8936595916748047\n",
      "Training loss: 0.935076117515564\n",
      "Validation accuracy: 0.8831934332847595\n",
      "Validation loss: 0.953538715839386\n",
      "Epoch: 9\n"
     ]
    },
    {
     "name": "stderr",
     "output_type": "stream",
     "text": [
      "901it [01:52,  8.01it/s]\n"
     ]
    },
    {
     "name": "stdout",
     "output_type": "stream",
     "text": [
      "Training accuracy: 0.8970523476600647\n",
      "Training loss: 0.9334972500801086\n",
      "Validation accuracy: 0.8887529969215393\n",
      "Validation loss: 0.9509967565536499\n"
     ]
    }
   ],
   "source": [
    "# Train data\n",
    "from sklearn.model_selection import KFold\n",
    "\n",
    "sess = tf.Session()\n",
    "init = tf.global_variables_initializer()\n",
    "sess.run(init)\n",
    "\n",
    "kf = KFold(n_splits=5, shuffle=True)\n",
    "\n",
    "cv_accuracy_val = []\n",
    "cv_loss_val = []\n",
    "\n",
    "split_num = 0\n",
    "for train_index, test_index in kf.split(X):\n",
    "    \n",
    "    # reset the network parameters\n",
    "    sess.run(init)\n",
    "    \n",
    "    print(\"Split: {}\".format(split_num))\n",
    "    split_num += 1\n",
    "    \n",
    "    X_train, X_test = X[train_index], X[test_index]\n",
    "    y_train, y_test = y[train_index], y[test_index]\n",
    "    \n",
    "    # around 2 minutes per epoch\n",
    "    for e in range(epochs):\n",
    "        print(\"Epoch: {}\".format(e))\n",
    "        pairs = zip(np.split(X, indices_or_sections=np.arange(0, len(X), batch_size)), \n",
    "                                    np.split(y, indices_or_sections=np.arange(0, len(X), batch_size)))\n",
    "        train_acc = []\n",
    "        train_loss = []\n",
    "        for batch_x, batch_y in tqdm(pairs):\n",
    "            if len(batch_x)==batch_size:\n",
    "                feed_dict = {train_inputs: batch_x, train_labels: batch_y}\n",
    "                _, train_l, train_a = sess.run([train_step, loss, acc], feed_dict=feed_dict)\n",
    "                train_acc.append(train_a)\n",
    "                train_loss.append(train_l)\n",
    "        \n",
    "        val_acc, val_loss = sess.run([acc, loss], feed_dict={train_inputs: X_test, train_labels: y_test})\n",
    "        \n",
    "        print(\"Training accuracy: {}\".format(np.mean(train_acc)))\n",
    "        print(\"Training loss: {}\".format(np.mean(train_loss)))\n",
    "        print(\"Validation accuracy: {}\".format(val_acc))\n",
    "        print(\"Validation loss: {}\".format(val_loss))\n",
    "    \n",
    "    cv_loss_val.append(val_loss)\n",
    "    cv_accuracy_val.append(val_accuracy)"
   ]
  },
  {
   "cell_type": "code",
   "execution_count": null,
   "metadata": {
    "collapsed": true
   },
   "outputs": [],
   "source": [
    "save_dir = \"../models/\"\n",
    "model_name = \"\"\n",
    "saver = tf.train.Saver()\n",
    "saver.save(sess, save_dir+model_name)"
   ]
  },
  {
   "cell_type": "code",
   "execution_count": 127,
   "metadata": {
    "collapsed": false
   },
   "outputs": [
    {
     "name": "stdout",
     "output_type": "stream",
     "text": [
      "CV Accuracy: 0.8890116810798645\n",
      "CV Loss: 0.9492925405502319\n"
     ]
    }
   ],
   "source": [
    "print(\"CV Accuracy: {}\".format(np.mean(cv_loss_val)))\n",
    "print(\"CV Loss: {}\".format(np.mean(cv_accuracy_val)))"
   ]
  },
  {
   "cell_type": "code",
   "execution_count": null,
   "metadata": {
    "collapsed": true
   },
   "outputs": [],
   "source": []
  }
 ],
 "metadata": {
  "kernelspec": {
   "display_name": "Python [conda root]",
   "language": "python",
   "name": "conda-root-py"
  },
  "language_info": {
   "codemirror_mode": {
    "name": "ipython",
    "version": 3
   },
   "file_extension": ".py",
   "mimetype": "text/x-python",
   "name": "python",
   "nbconvert_exporter": "python",
   "pygments_lexer": "ipython3",
   "version": "3.5.2"
  }
 },
 "nbformat": 4,
 "nbformat_minor": 2
}
