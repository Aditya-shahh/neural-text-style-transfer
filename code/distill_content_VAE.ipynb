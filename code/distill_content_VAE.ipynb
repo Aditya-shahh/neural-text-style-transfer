{
 "cells": [
  {
   "cell_type": "code",
   "execution_count": 1,
   "metadata": {
    "collapsed": false,
    "deletable": true,
    "editable": true
   },
   "outputs": [
    {
     "name": "stderr",
     "output_type": "stream",
     "text": [
      "Using TensorFlow backend.\n"
     ]
    }
   ],
   "source": [
    "import os\n",
    "import sys\n",
    "import time\n",
    "import random\n",
    "import pickle as pickle\n",
    "import numpy as np\n",
    "import tensorflow as tf\n",
    "from utils import *\n",
    "from nn import *\n",
    "\n",
    "from tqdm import tqdm"
   ]
  },
  {
   "cell_type": "markdown",
   "metadata": {
    "deletable": true,
    "editable": true
   },
   "source": [
    "## Import all the data"
   ]
  },
  {
   "cell_type": "code",
   "execution_count": 2,
   "metadata": {
    "collapsed": false,
    "deletable": true,
    "editable": true
   },
   "outputs": [
    {
     "name": "stdout",
     "output_type": "stream",
     "text": [
      "Loading 1004399 tweets from 4391 unique users.\n",
      "Loading Twitter dataset took 3 seconds.\n",
      "Number of Tweets: 97728\n",
      "Only keeping characters that appear at least 100 times in the corpus\n",
      "Character set consists of 246 characters\n",
      "Building X...\n",
      "Building Y...\n",
      "Splitting Data...\n",
      "79159 train char sequences\n",
      "9773 test char sequences\n",
      "8796 validation char sequences\n"
     ]
    }
   ],
   "source": [
    "# import all the data\n",
    "data = load_10_people()\n",
    "X_train_ohe = data['X_train'].astype(np.float64)\n",
    "X_train_nums = X_train_ohe.argmax(-1)\n",
    "Y_train = data['Y_train'].astype(np.float64)"
   ]
  },
  {
   "cell_type": "markdown",
   "metadata": {
    "deletable": true,
    "editable": true
   },
   "source": [
    "## Some constants"
   ]
  },
  {
   "cell_type": "code",
   "execution_count": 3,
   "metadata": {
    "collapsed": true,
    "deletable": true,
    "editable": true
   },
   "outputs": [],
   "source": [
    "# Create the encoder RNN with one GRU cell\n",
    "vocab_size = 246\n",
    "embedding_size = 100\n",
    "max_seq_length = 140\n",
    "n_layers = 1\n",
    "batch_size = 50\n",
    "nepochs = 10\n",
    "dropout_rate = 0.5\n",
    "dim_y = 10\n",
    "dim_h = 100\n",
    "learning_rate = 0.001"
   ]
  },
  {
   "cell_type": "markdown",
   "metadata": {
    "deletable": true,
    "editable": true
   },
   "source": [
    "## Helper functions"
   ]
  },
  {
   "cell_type": "code",
   "execution_count": 4,
   "metadata": {
    "collapsed": true,
    "deletable": true,
    "editable": true
   },
   "outputs": [],
   "source": [
    "def gru_cell(dim, n_layers, dropout):\n",
    "    cell = tf.nn.rnn_cell.GRUCell(dim)\n",
    "    cell = tf.nn.rnn_cell.DropoutWrapper(cell,\n",
    "        input_keep_prob=dropout)\n",
    "    if n_layers > 1:\n",
    "        cell = tf.nn.rnn_cell.MultiRNNCell([cell] * n_layers)\n",
    "    return cell\n",
    "\n",
    "# fully-conected layer\n",
    "def dense(x, inputFeatures, outputFeatures, scope):\n",
    "    with tf.variable_scope(scope or \"Linear\"):\n",
    "        matrix = tf.get_variable(\"Matrix\", [inputFeatures, outputFeatures],\n",
    "                                 tf.float32, tf.random_normal_initializer(stddev=0.02))\n",
    "        bias = tf.get_variable(\"bias\", [outputFeatures], initializer=tf.constant_initializer(0.0))\n",
    "        \n",
    "        return tf.matmul(x, matrix) + bias\n",
    "    \n",
    "# take the encoded sentence and try to predict mu and sigma\n",
    "def recognition(latent_vector, dim_mu = dim_h, dim_s = dim_h):\n",
    "        with tf.variable_scope(\"recognition\"):\n",
    "            w_mean = dense(latent_vector, dim_h, dim_mu, \"w_mean\")\n",
    "            w_stddev = dense(latent_vector, dim_h, dim_s, \"w_stddev\")\n",
    "        return w_mean, w_stddev\n",
    "    \n",
    "def reconstruction_loss(targets, logits):\n",
    "    with tf.variable_scope(\"rec_loss\"):\n",
    "        loss_g = tf.nn.softmax_cross_entropy_with_logits(\n",
    "        labels=tf.reshape(targets, [-1, vocab_size]), logits=logits)\n",
    "        loss_g = tf.reduce_sum(loss_g) / tf.to_float(batch_size)\n",
    "\n",
    "        preds = tf.argmax(tf.nn.softmax(logits), -1)\n",
    "        goalz = tf.cast(tf.reshape(encoder_inputs, [-1]), tf.int64)\n",
    "        accuracy = tf.reduce_mean(tf.cast(tf.equal(preds, goalz), tf.float32))\n",
    "        \n",
    "    return loss_g, accuracy"
   ]
  },
  {
   "cell_type": "markdown",
   "metadata": {
    "deletable": true,
    "editable": true
   },
   "source": [
    "## The Network - A simple VAE"
   ]
  },
  {
   "cell_type": "code",
   "execution_count": null,
   "metadata": {
    "collapsed": false,
    "deletable": true,
    "editable": true,
    "scrolled": true
   },
   "outputs": [],
   "source": [
    "tf.reset_default_graph()\n",
    "\n",
    "# Inputs\n",
    "encoder_inputs = tf.placeholder(shape = [batch_size, max_seq_length], name = \"input_sentences\", dtype=tf.int32)\n",
    "targets = tf.placeholder(shape = [batch_size, max_seq_length, vocab_size], name = \"target_sentences\", dtype=tf.int32)\n",
    "labels = tf.placeholder(shape = [batch_size], name = 'labels', dtype=tf.int32)\n",
    "labels = tf.reshape(labels, [-1, 1])\n",
    "\n",
    "# Embedding matrices\n",
    "# TensorShape([Dimension(246), Dimension(100)])\n",
    "embedding_encoder = tf.get_variable(\"embedding_matrix\", [vocab_size, embedding_size])\n",
    "embedding_decoder = tf.get_variable(\"output_embedding_matrix\", [vocab_size, embedding_size])\n",
    "\n",
    "# Extract Embeddings\n",
    "#TensorShape([Dimension(140), Dimension(50), Dimension(100)])\n",
    "encoder_emb_inp = tf.nn.embedding_lookup(embedding_encoder, encoder_inputs, name = \"encoder_embeddings\")\n",
    "encoder_emb_out = tf.nn.embedding_lookup(embedding_decoder, encoder_inputs, name = \"decoder_embeddings\")\n",
    "\n",
    "# Encoder Net\n",
    "# dim_h is the dimension of the hidden state\n",
    "cell_e = create_cell(dim_h, n_layers, dropout_rate)\n",
    "_, z = tf.nn.dynamic_rnn(cell_e, encoder_emb_inp, dtype = tf.float32, scope='encoder')\n",
    "\n",
    "# get the predicted values for mean and Standard Deviation\n",
    "z_mean, z_stddev = recognition(z)\n",
    "\n",
    "samples = tf.random_normal([batch_size, dim_h],0,1,dtype=tf.float32)\n",
    "guessed_z = z_mean + (z_stddev * samples)\n",
    "\n",
    "# Decoder Net\n",
    "cell_g = create_cell(dim_h, n_layers, dropout_rate)\n",
    "g_outputs, _ = tf.nn.dynamic_rnn(cell_g, encoder_emb_out,\n",
    "            initial_state = z, scope='generator')\n",
    "g_outputs = tf.nn.dropout(g_outputs, dropout_rate)\n",
    "# flatten all the outputs and take through final FC layer for classification\n",
    "g_outputs = tf.reshape(g_outputs, [-1, dim_h])\n",
    "g_logits = dense(g_outputs, dim_h, vocab_size, scope='output_fc')\n",
    "\n",
    "# Losses\n",
    "kl_term = 0.5 * tf.reduce_sum(tf.square(z_mean) + tf.square(z_stddev) - tf.log(tf.square(z_stddev)) - 1,1)\n",
    "rec_loss, acc = reconstruction_loss(targets, g_logits)\n",
    "loss = tf.reduce_mean(kl_term + rec_loss)\n",
    "\n",
    "# optimizer\n",
    "optimizer = tf.train.AdamOptimizer(learning_rate).minimize(loss)"
   ]
  },
  {
   "cell_type": "markdown",
   "metadata": {
    "deletable": true,
    "editable": true
   },
   "source": [
    "## Training"
   ]
  },
  {
   "cell_type": "code",
   "execution_count": null,
   "metadata": {
    "collapsed": false,
    "deletable": true,
    "editable": true,
    "scrolled": false
   },
   "outputs": [
    {
     "name": "stderr",
     "output_type": "stream",
     "text": [
      "  0%|          | 1/5000 [00:01<1:38:40,  1.18s/it]"
     ]
    },
    {
     "name": "stdout",
     "output_type": "stream",
     "text": [
      "Accuracy 0.01157142873853445\n",
      "Loss: 832.30908203125\n"
     ]
    },
    {
     "name": "stderr",
     "output_type": "stream",
     "text": [
      "  4%|▍         | 201/5000 [03:09<1:26:07,  1.08s/it]"
     ]
    },
    {
     "name": "stdout",
     "output_type": "stream",
     "text": [
      "Accuracy 0.11157143115997314\n",
      "Loss: 288.96612548828125\n"
     ]
    },
    {
     "name": "stderr",
     "output_type": "stream",
     "text": [
      "  8%|▊         | 401/5000 [06:31<1:21:57,  1.07s/it]"
     ]
    },
    {
     "name": "stdout",
     "output_type": "stream",
     "text": [
      "Accuracy 0.12971428036689758\n",
      "Loss: 300.05487060546875\n"
     ]
    },
    {
     "name": "stderr",
     "output_type": "stream",
     "text": [
      " 12%|█▏        | 581/5000 [09:25<1:09:29,  1.06it/s]"
     ]
    }
   ],
   "source": [
    "sess = tf.Session()\n",
    "sess.run([tf.global_variables_initializer()])\n",
    "saver = tf.train.Saver()\n",
    "\n",
    "max_iter = 5000\n",
    "summary_iter = 200\n",
    "\n",
    "accuracy_ = []\n",
    "loss_ = []\n",
    "\n",
    "for i in tqdm(range(max_iter)):\n",
    "        sess.run([optimizer], feed_dict={encoder_inputs: X_train_nums[i:i+batch_size], \n",
    "                                                       targets: X_train_ohe[i:i+batch_size],\n",
    "                                                       labels: np.argmax(Y_train[i:i+batch_size], 1)})\n",
    "        if i % summary_iter == 0:\n",
    "            random_ix = np.random.choice(np.arange(len(X_train_nums)),size = batch_size,replace=True)\n",
    "            l, a = sess.run([loss, acc], feed_dict = {encoder_inputs: X_train_nums[random_ix],\n",
    "                                                      targets: X_train_ohe[random_ix]})\n",
    "            print(\"Accuracy {}\".format(a))\n",
    "            print(\"Loss: {}\".format(l))\n",
    "            accuracy_.append(a)\n",
    "            loss_.append(l)\n",
    "       \n",
    "# Save the model somewhere\n",
    "save_path = saver.save(sess, \"../models/VAE/first_attempt.ckpt\")"
   ]
  }
 ],
 "metadata": {
  "kernelspec": {
   "display_name": "Python 3",
   "language": "python",
   "name": "python3"
  },
  "language_info": {
   "codemirror_mode": {
    "name": "ipython",
    "version": 3
   },
   "file_extension": ".py",
   "mimetype": "text/x-python",
   "name": "python",
   "nbconvert_exporter": "python",
   "pygments_lexer": "ipython3",
   "version": "3.5.3"
  }
 },
 "nbformat": 4,
 "nbformat_minor": 2
}
