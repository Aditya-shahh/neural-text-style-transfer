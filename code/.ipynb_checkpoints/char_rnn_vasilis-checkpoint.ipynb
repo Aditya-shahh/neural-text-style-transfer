{
 "cells": [
  {
   "cell_type": "code",
   "execution_count": 1,
   "metadata": {
    "collapsed": true
   },
   "outputs": [],
   "source": [
    "import numpy as np\n",
    "import pandas as pd\n",
    "import tensorflow as tf\n",
    "import matplotlib.pyplot as plt\n",
    "from tqdm import tqdm\n",
    "plt.style.use('fivethirtyeight')\n",
    "\n",
    "%matplotlib inline"
   ]
  },
  {
   "cell_type": "code",
   "execution_count": 2,
   "metadata": {
    "collapsed": false
   },
   "outputs": [],
   "source": [
    "input_X = np.load(\"../outputs/10_user_X_Nov_11.npy\")\n",
    "input_y = np.load(\"../outputs/10_user_y_Nov_11.npy\")\n",
    "num_classes_for_prediction = 10\n",
    "\n",
    "# put X in the right format\n",
    "X = np.array([_ for _ in input_X])\n",
    "\n",
    "# put y in the right format\n",
    "def ohe(n):\n",
    "    vec = np.zeros(num_classes_for_prediction)\n",
    "    vec[n] = 1\n",
    "    return vec\n",
    "\n",
    "y = np.array([ohe(n) for n in input_y])\n",
    "\n",
    "# constants\n",
    "vocab_size = 254\n",
    "embedding_dims = 300\n",
    "tweet_size = 140\n",
    "batch_size = 100\n",
    "epochs = 10\n"
   ]
  },
  {
   "cell_type": "code",
   "execution_count": 3,
   "metadata": {
    "collapsed": false
   },
   "outputs": [],
   "source": [
    "# Model\n",
    "\n",
    "# Placeholders for inputs\n",
    "train_inputs = tf.placeholder(tf.int32, shape=[None, tweet_size], name='train_inputs')\n",
    "train_labels = tf.placeholder(tf.int32, shape=[None, num_classes_for_prediction], name='train_labels')\n",
    "\n",
    "# Create the embedding matrix\n",
    "embeddings = tf.Variable(tf.random_uniform([vocab_size, embedding_dims], -1.0, 1.0), name='embeddings')\n",
    "\n",
    "# Extract the character embeddings for the tweet\n",
    "embed =  tf.reshape(tf.nn.embedding_lookup(embeddings, train_inputs), [-1, tweet_size, embedding_dims, 1],\n",
    "                    name='embed')\n",
    "\n",
    "# The convolutional part\n",
    "n_gram = 2\n",
    "num_filters = 32\n",
    "W_conv = tf.Variable(tf.truncated_normal([n_gram, embedding_dims, 1, num_filters], stddev=0.05), name=\"W_conv\")\n",
    "b_conv = tf.Variable(tf.constant(0.1, shape=[num_filters]), name=\"b_conv\")\n",
    "\n",
    "conv = tf.nn.conv2d(\n",
    "        embed,\n",
    "        W_conv, \n",
    "        strides=[1, 1, 1, 1], \n",
    "        padding=\"VALID\", \n",
    "        name=\"convolution\")\n",
    "\n",
    "h = tf.nn.tanh(tf.nn.bias_add(conv, b_conv), name=\"relu\")\n",
    "\n",
    "pooled = tf.nn.max_pool(\n",
    "        h,\n",
    "        ksize=[1, h.get_shape()[1].value, 1, 1],\n",
    "        strides=[1, 1, 1, 1],\n",
    "        padding='VALID',\n",
    "        name=\"max_pool\")\n",
    "\n",
    "# reshape and add FC\n",
    "h_pool_flat = tf.reshape(pooled, [-1, num_filters], name='flatten')\n",
    "\n",
    "W_fc = tf.Variable(tf.truncated_normal([num_filters, num_classes_for_prediction], stddev=0.05), name=\"W_fc\")\n",
    "b_fc = tf.Variable(tf.constant(0.1, shape=[num_classes_for_prediction]), name=\"b_fc\")\n",
    "fc_output = tf.nn.tanh(tf.matmul(h_pool_flat, W_fc) + b_fc, name=\"fc\")\n",
    "\n",
    "# cross entropy loss function\n",
    "loss = tf.reduce_mean(\n",
    "    tf.nn.softmax_cross_entropy_with_logits(\n",
    "    _sentinel=None,\n",
    "    labels=train_labels,\n",
    "    logits=fc_output,\n",
    "    dim=-1,\n",
    "    name='loss'\n",
    "))\n",
    "\n",
    "preds = tf.argmax(fc_output, 1, name='predictions')\n",
    "true_vals = tf.argmax(train_labels, 1, name='true_vals')\n",
    "acc = tf.reduce_mean(tf.cast(tf.equal(preds, true_vals), tf.float32), name = 'acc')\n",
    "\n",
    "# SGD optimizer\n",
    "learning_rate = 0.5\n",
    "optimizer = tf.train.GradientDescentOptimizer(learning_rate=learning_rate, name='optimizer')\n",
    "train_step = optimizer.minimize(loss, name='train_step')"
   ]
  },
  {
   "cell_type": "code",
   "execution_count": 4,
   "metadata": {
    "collapsed": true
   },
   "outputs": [],
   "source": [
    "sess = tf.Session()\n",
    "init = tf.global_variables_initializer()\n",
    "sess.run(init)"
   ]
  },
  {
   "cell_type": "code",
   "execution_count": 7,
   "metadata": {
    "collapsed": false,
    "scrolled": true
   },
   "outputs": [
    {
     "name": "stderr",
     "output_type": "stream",
     "text": [
      "\r",
      "0it [00:00, ?it/s]"
     ]
    },
    {
     "name": "stdout",
     "output_type": "stream",
     "text": [
      "Split: 0\n",
      "Epoch: 0\n"
     ]
    },
    {
     "name": "stderr",
     "output_type": "stream",
     "text": [
      "901it [01:54,  7.86it/s]\n",
      "0it [00:00, ?it/s]"
     ]
    },
    {
     "name": "stdout",
     "output_type": "stream",
     "text": [
      "Training accuracy: 0.5954171419143677\n",
      "Training loss: 1.388081669807434\n",
      "Validation accuracy: 0.7697353959083557\n",
      "Validation loss: 1.1556872129440308\n",
      "Epoch: 1\n"
     ]
    },
    {
     "name": "stderr",
     "output_type": "stream",
     "text": [
      "901it [01:54,  7.88it/s]\n",
      "2it [00:00, 11.46it/s]"
     ]
    },
    {
     "name": "stdout",
     "output_type": "stream",
     "text": [
      "Training accuracy: 0.8565406203269958\n",
      "Training loss: 1.0096009969711304\n",
      "Validation accuracy: 0.8420614004135132\n",
      "Validation loss: 1.063541054725647\n",
      "Epoch: 2\n"
     ]
    },
    {
     "name": "stderr",
     "output_type": "stream",
     "text": [
      "901it [01:54,  7.88it/s]\n",
      "2it [00:00, 13.24it/s]"
     ]
    },
    {
     "name": "stdout",
     "output_type": "stream",
     "text": [
      "Training accuracy: 0.894126832485199\n",
      "Training loss: 0.9689398407936096\n",
      "Validation accuracy: 0.870413601398468\n",
      "Validation loss: 1.0205819606781006\n",
      "Epoch: 3\n"
     ]
    },
    {
     "name": "stderr",
     "output_type": "stream",
     "text": [
      "901it [01:54,  7.88it/s]\n",
      "2it [00:00, 11.73it/s]"
     ]
    },
    {
     "name": "stdout",
     "output_type": "stream",
     "text": [
      "Training accuracy: 0.9014126658439636\n",
      "Training loss: 0.9543343782424927\n",
      "Validation accuracy: 0.8693573474884033\n",
      "Validation loss: 1.0040658712387085\n",
      "Epoch: 4\n"
     ]
    },
    {
     "name": "stderr",
     "output_type": "stream",
     "text": [
      "901it [01:56,  7.76it/s]\n",
      "2it [00:00, 12.27it/s]"
     ]
    },
    {
     "name": "stdout",
     "output_type": "stream",
     "text": [
      "Training accuracy: 0.9066963195800781\n",
      "Training loss: 0.9472568035125732\n",
      "Validation accuracy: 0.8705248236656189\n",
      "Validation loss: 0.9964889883995056\n",
      "Epoch: 5\n"
     ]
    },
    {
     "name": "stderr",
     "output_type": "stream",
     "text": [
      "901it [01:53,  7.90it/s]\n",
      "2it [00:00, 11.77it/s]"
     ]
    },
    {
     "name": "stdout",
     "output_type": "stream",
     "text": [
      "Training accuracy: 0.9061846137046814\n",
      "Training loss: 0.9440957903862\n",
      "Validation accuracy: 0.8858683705329895\n",
      "Validation loss: 0.9705634117126465\n",
      "Epoch: 6\n"
     ]
    },
    {
     "name": "stderr",
     "output_type": "stream",
     "text": [
      "901it [01:58,  7.63it/s]\n",
      "2it [00:00, 12.02it/s]"
     ]
    },
    {
     "name": "stdout",
     "output_type": "stream",
     "text": [
      "Training accuracy: 0.9036596417427063\n",
      "Training loss: 0.941411554813385\n",
      "Validation accuracy: 0.8749166131019592\n",
      "Validation loss: 0.9851270318031311\n",
      "Epoch: 7\n"
     ]
    },
    {
     "name": "stderr",
     "output_type": "stream",
     "text": [
      "901it [01:54,  7.88it/s]\n",
      "2it [00:00, 12.12it/s]"
     ]
    },
    {
     "name": "stdout",
     "output_type": "stream",
     "text": [
      "Training accuracy: 0.9078198075294495\n",
      "Training loss: 0.9381839632987976\n",
      "Validation accuracy: 0.8849788904190063\n",
      "Validation loss: 0.9650824069976807\n",
      "Epoch: 8\n"
     ]
    },
    {
     "name": "stderr",
     "output_type": "stream",
     "text": [
      "901it [01:54,  7.87it/s]\n",
      "2it [00:00, 12.80it/s]"
     ]
    },
    {
     "name": "stdout",
     "output_type": "stream",
     "text": [
      "Training accuracy: 0.9092102646827698\n",
      "Training loss: 0.93940269947052\n",
      "Validation accuracy: 0.8958750367164612\n",
      "Validation loss: 0.9555873870849609\n",
      "Epoch: 9\n"
     ]
    },
    {
     "name": "stderr",
     "output_type": "stream",
     "text": [
      "901it [02:03,  7.28it/s]\n"
     ]
    },
    {
     "name": "stdout",
     "output_type": "stream",
     "text": [
      "Training accuracy: 0.9128475785255432\n",
      "Training loss: 0.9354503154754639\n",
      "Validation accuracy: 0.8940404653549194\n",
      "Validation loss: 0.9596749544143677\n",
      "Split: 1\n"
     ]
    },
    {
     "name": "stderr",
     "output_type": "stream",
     "text": [
      "2it [00:00, 13.76it/s]"
     ]
    },
    {
     "name": "stdout",
     "output_type": "stream",
     "text": [
      "Epoch: 0\n"
     ]
    },
    {
     "name": "stderr",
     "output_type": "stream",
     "text": [
      "901it [01:56,  7.75it/s]\n",
      "2it [00:00, 11.50it/s]"
     ]
    },
    {
     "name": "stdout",
     "output_type": "stream",
     "text": [
      "Training accuracy: 0.5710678696632385\n",
      "Training loss: 1.3993964195251465\n",
      "Validation accuracy: 0.6810095906257629\n",
      "Validation loss: 1.224310040473938\n",
      "Epoch: 1\n"
     ]
    },
    {
     "name": "stderr",
     "output_type": "stream",
     "text": [
      "901it [01:59,  7.57it/s]\n",
      "2it [00:00, 13.13it/s]"
     ]
    },
    {
     "name": "stdout",
     "output_type": "stream",
     "text": [
      "Training accuracy: 0.8247052431106567\n",
      "Training loss: 1.016623854637146\n",
      "Validation accuracy: 0.8098732233047485\n",
      "Validation loss: 1.0419102907180786\n",
      "Epoch: 2\n"
     ]
    },
    {
     "name": "stderr",
     "output_type": "stream",
     "text": [
      "901it [01:54,  7.84it/s]\n",
      "2it [00:00, 11.34it/s]"
     ]
    },
    {
     "name": "stdout",
     "output_type": "stream",
     "text": [
      "Training accuracy: 0.857630729675293\n",
      "Training loss: 0.9760024547576904\n",
      "Validation accuracy: 0.8507338166236877\n",
      "Validation loss: 0.9990748763084412\n",
      "Epoch: 3\n"
     ]
    },
    {
     "name": "stderr",
     "output_type": "stream",
     "text": [
      "901it [01:58,  7.61it/s]\n",
      "2it [00:00, 11.62it/s]"
     ]
    },
    {
     "name": "stdout",
     "output_type": "stream",
     "text": [
      "Training accuracy: 0.8771412372589111\n",
      "Training loss: 0.9617418646812439\n",
      "Validation accuracy: 0.8656882643699646\n",
      "Validation loss: 0.981870174407959\n",
      "Epoch: 4\n"
     ]
    },
    {
     "name": "stderr",
     "output_type": "stream",
     "text": [
      "901it [01:58,  7.58it/s]\n",
      "2it [00:00, 12.14it/s]"
     ]
    },
    {
     "name": "stdout",
     "output_type": "stream",
     "text": [
      "Training accuracy: 0.8834593892097473\n",
      "Training loss: 0.9497621059417725\n",
      "Validation accuracy: 0.877307116985321\n",
      "Validation loss: 0.9645670056343079\n",
      "Epoch: 5\n"
     ]
    },
    {
     "name": "stderr",
     "output_type": "stream",
     "text": [
      "901it [01:55,  7.77it/s]\n",
      "2it [00:00, 12.28it/s]"
     ]
    },
    {
     "name": "stdout",
     "output_type": "stream",
     "text": [
      "Training accuracy: 0.8886095285415649\n",
      "Training loss: 0.9414439797401428\n",
      "Validation accuracy: 0.8681899309158325\n",
      "Validation loss: 0.9775855541229248\n",
      "Epoch: 6\n"
     ]
    },
    {
     "name": "stderr",
     "output_type": "stream",
     "text": [
      "901it [01:55,  7.78it/s]\n",
      "2it [00:00, 12.51it/s]"
     ]
    },
    {
     "name": "stdout",
     "output_type": "stream",
     "text": [
      "Training accuracy: 0.8909121155738831\n",
      "Training loss: 0.9371137022972107\n",
      "Validation accuracy: 0.8745274543762207\n",
      "Validation loss: 0.9649292826652527\n",
      "Epoch: 7\n"
     ]
    },
    {
     "name": "stderr",
     "output_type": "stream",
     "text": [
      "901it [01:56,  7.74it/s]\n",
      "2it [00:00, 13.09it/s]"
     ]
    },
    {
     "name": "stdout",
     "output_type": "stream",
     "text": [
      "Training accuracy: 0.892903208732605\n",
      "Training loss: 0.9339619278907776\n",
      "Validation accuracy: 0.882199227809906\n",
      "Validation loss: 0.9455469250679016\n",
      "Epoch: 8\n"
     ]
    },
    {
     "name": "stderr",
     "output_type": "stream",
     "text": [
      "901it [01:56,  7.71it/s]\n",
      "2it [00:00, 12.57it/s]"
     ]
    },
    {
     "name": "stdout",
     "output_type": "stream",
     "text": [
      "Training accuracy: 0.8941267728805542\n",
      "Training loss: 0.9296714067459106\n",
      "Validation accuracy: 0.8778074383735657\n",
      "Validation loss: 0.9587898850440979\n",
      "Epoch: 9\n"
     ]
    },
    {
     "name": "stderr",
     "output_type": "stream",
     "text": [
      "901it [01:56,  7.71it/s]\n"
     ]
    },
    {
     "name": "stdout",
     "output_type": "stream",
     "text": [
      "Training accuracy: 0.8952279686927795\n",
      "Training loss: 0.9277146458625793\n",
      "Validation accuracy: 0.8891482949256897\n",
      "Validation loss: 0.9421476125717163\n",
      "Split: 2\n"
     ]
    },
    {
     "name": "stderr",
     "output_type": "stream",
     "text": [
      "2it [00:00, 12.79it/s]"
     ]
    },
    {
     "name": "stdout",
     "output_type": "stream",
     "text": [
      "Epoch: 0\n"
     ]
    },
    {
     "name": "stderr",
     "output_type": "stream",
     "text": [
      "901it [01:54,  7.84it/s]\n",
      "2it [00:00, 12.87it/s]"
     ]
    },
    {
     "name": "stdout",
     "output_type": "stream",
     "text": [
      "Training accuracy: 0.6058843731880188\n",
      "Training loss: 1.354637622833252\n",
      "Validation accuracy: 0.7838438749313354\n",
      "Validation loss: 1.102437973022461\n",
      "Epoch: 1\n"
     ]
    },
    {
     "name": "stderr",
     "output_type": "stream",
     "text": [
      "901it [01:54,  7.88it/s]\n",
      "2it [00:00, 12.65it/s]"
     ]
    },
    {
     "name": "stdout",
     "output_type": "stream",
     "text": [
      "Training accuracy: 0.84369295835495\n",
      "Training loss: 1.0053112506866455\n",
      "Validation accuracy: 0.8319897651672363\n",
      "Validation loss: 1.058595061302185\n",
      "Epoch: 2\n"
     ]
    },
    {
     "name": "stderr",
     "output_type": "stream",
     "text": [
      "901it [01:54,  7.84it/s]\n",
      "2it [00:00, 12.97it/s]"
     ]
    },
    {
     "name": "stdout",
     "output_type": "stream",
     "text": [
      "Training accuracy: 0.8689765930175781\n",
      "Training loss: 0.9812381267547607\n",
      "Validation accuracy: 0.8592316508293152\n",
      "Validation loss: 1.0152692794799805\n",
      "Epoch: 3\n"
     ]
    },
    {
     "name": "stderr",
     "output_type": "stream",
     "text": [
      "901it [01:54,  7.89it/s]\n",
      "2it [00:00, 13.81it/s]"
     ]
    },
    {
     "name": "stdout",
     "output_type": "stream",
     "text": [
      "Training accuracy: 0.8795661926269531\n",
      "Training loss: 0.9608388543128967\n",
      "Validation accuracy: 0.8739645481109619\n",
      "Validation loss: 0.9817913174629211\n",
      "Epoch: 4\n"
     ]
    },
    {
     "name": "stderr",
     "output_type": "stream",
     "text": [
      "901it [01:54,  7.89it/s]\n",
      "2it [00:00, 10.85it/s]"
     ]
    },
    {
     "name": "stdout",
     "output_type": "stream",
     "text": [
      "Training accuracy: 0.8853059411048889\n",
      "Training loss: 0.9502231478691101\n",
      "Validation accuracy: 0.8789681196212769\n",
      "Validation loss: 0.9740529656410217\n",
      "Epoch: 5\n"
     ]
    },
    {
     "name": "stderr",
     "output_type": "stream",
     "text": [
      "901it [01:57,  7.64it/s]\n",
      "2it [00:00, 12.66it/s]"
     ]
    },
    {
     "name": "stdout",
     "output_type": "stream",
     "text": [
      "Training accuracy: 0.889276921749115\n",
      "Training loss: 0.9433402419090271\n",
      "Validation accuracy: 0.8825262784957886\n",
      "Validation loss: 0.9640811681747437\n",
      "Epoch: 6\n"
     ]
    },
    {
     "name": "stderr",
     "output_type": "stream",
     "text": [
      "901it [02:05,  7.15it/s]\n",
      "0it [00:00, ?it/s]"
     ]
    },
    {
     "name": "stdout",
     "output_type": "stream",
     "text": [
      "Training accuracy: 0.890745222568512\n",
      "Training loss: 0.9376601576805115\n",
      "Validation accuracy: 0.884472131729126\n",
      "Validation loss: 0.9614943265914917\n",
      "Epoch: 7\n"
     ]
    },
    {
     "name": "stderr",
     "output_type": "stream",
     "text": [
      "901it [02:06,  7.10it/s]\n",
      "2it [00:00, 11.13it/s]"
     ]
    },
    {
     "name": "stdout",
     "output_type": "stream",
     "text": [
      "Training accuracy: 0.8932925462722778\n",
      "Training loss: 0.9344272017478943\n",
      "Validation accuracy: 0.8831378221511841\n",
      "Validation loss: 0.9646820425987244\n",
      "Epoch: 8\n"
     ]
    },
    {
     "name": "stderr",
     "output_type": "stream",
     "text": [
      "901it [02:05,  7.19it/s]\n",
      "2it [00:00, 13.46it/s]"
     ]
    },
    {
     "name": "stdout",
     "output_type": "stream",
     "text": [
      "Training accuracy: 0.8944493532180786\n",
      "Training loss: 0.9327582716941833\n",
      "Validation accuracy: 0.886918306350708\n",
      "Validation loss: 0.9495725035667419\n",
      "Epoch: 9\n"
     ]
    },
    {
     "name": "stderr",
     "output_type": "stream",
     "text": [
      "901it [02:20,  6.40it/s]\n"
     ]
    },
    {
     "name": "stdout",
     "output_type": "stream",
     "text": [
      "Training accuracy: 0.8965961933135986\n",
      "Training loss: 0.930208146572113\n",
      "Validation accuracy: 0.8895313143730164\n",
      "Validation loss: 0.9462740421295166\n",
      "Split: 3\n"
     ]
    },
    {
     "name": "stderr",
     "output_type": "stream",
     "text": [
      "2it [00:00, 12.93it/s]"
     ]
    },
    {
     "name": "stdout",
     "output_type": "stream",
     "text": [
      "Epoch: 0\n"
     ]
    },
    {
     "name": "stderr",
     "output_type": "stream",
     "text": [
      "901it [02:04,  7.22it/s]\n",
      "2it [00:00, 12.20it/s]"
     ]
    },
    {
     "name": "stdout",
     "output_type": "stream",
     "text": [
      "Training accuracy: 0.5895216464996338\n",
      "Training loss: 1.3914705514907837\n",
      "Validation accuracy: 0.7928503751754761\n",
      "Validation loss: 1.111039400100708\n",
      "Epoch: 1\n"
     ]
    },
    {
     "name": "stderr",
     "output_type": "stream",
     "text": [
      "901it [02:04,  7.23it/s]\n",
      "2it [00:00, 12.37it/s]"
     ]
    },
    {
     "name": "stdout",
     "output_type": "stream",
     "text": [
      "Training accuracy: 0.8448053002357483\n",
      "Training loss: 1.010575532913208\n",
      "Validation accuracy: 0.8307110667228699\n",
      "Validation loss: 1.0239912271499634\n",
      "Epoch: 2\n"
     ]
    },
    {
     "name": "stderr",
     "output_type": "stream",
     "text": [
      "901it [02:08,  7.01it/s]\n",
      "2it [00:00, 10.62it/s]"
     ]
    },
    {
     "name": "stdout",
     "output_type": "stream",
     "text": [
      "Training accuracy: 0.86725252866745\n",
      "Training loss: 0.9825337529182434\n",
      "Validation accuracy: 0.8462778925895691\n",
      "Validation loss: 1.0162235498428345\n",
      "Epoch: 3\n"
     ]
    },
    {
     "name": "stderr",
     "output_type": "stream",
     "text": [
      "901it [02:04,  7.25it/s]\n",
      "2it [00:00, 11.32it/s]"
     ]
    },
    {
     "name": "stdout",
     "output_type": "stream",
     "text": [
      "Training accuracy: 0.8846830129623413\n",
      "Training loss: 0.9665583968162537\n",
      "Validation accuracy: 0.8675154447555542\n",
      "Validation loss: 0.9984362721443176\n",
      "Epoch: 4\n"
     ]
    },
    {
     "name": "stderr",
     "output_type": "stream",
     "text": [
      "901it [02:12,  6.80it/s]\n",
      "2it [00:00, 12.05it/s]"
     ]
    },
    {
     "name": "stdout",
     "output_type": "stream",
     "text": [
      "Training accuracy: 0.8960400223731995\n",
      "Training loss: 0.953342616558075\n",
      "Validation accuracy: 0.8818591237068176\n",
      "Validation loss: 0.9701226353645325\n",
      "Epoch: 5\n"
     ]
    },
    {
     "name": "stderr",
     "output_type": "stream",
     "text": [
      "901it [02:02,  7.38it/s]\n",
      "0it [00:00, ?it/s]"
     ]
    },
    {
     "name": "stdout",
     "output_type": "stream",
     "text": [
      "Training accuracy: 0.9090990424156189\n",
      "Training loss: 0.9411808252334595\n",
      "Validation accuracy: 0.897092342376709\n",
      "Validation loss: 0.9545575380325317\n",
      "Epoch: 6\n"
     ]
    },
    {
     "name": "stderr",
     "output_type": "stream",
     "text": [
      "901it [01:58,  7.60it/s]\n",
      "2it [00:00, 12.75it/s]"
     ]
    },
    {
     "name": "stdout",
     "output_type": "stream",
     "text": [
      "Training accuracy: 0.9158954620361328\n",
      "Training loss: 0.9328134059906006\n",
      "Validation accuracy: 0.9012064337730408\n",
      "Validation loss: 0.9527600407600403\n",
      "Epoch: 7\n"
     ]
    },
    {
     "name": "stderr",
     "output_type": "stream",
     "text": [
      "901it [02:07,  7.08it/s]\n",
      "0it [00:00, ?it/s]"
     ]
    },
    {
     "name": "stdout",
     "output_type": "stream",
     "text": [
      "Training accuracy: 0.9175305962562561\n",
      "Training loss: 0.9281209111213684\n",
      "Validation accuracy: 0.906599223613739\n",
      "Validation loss: 0.9444603323936462\n",
      "Epoch: 8\n"
     ]
    },
    {
     "name": "stderr",
     "output_type": "stream",
     "text": [
      "901it [01:59,  7.54it/s]\n",
      "2it [00:00, 11.16it/s]"
     ]
    },
    {
     "name": "stdout",
     "output_type": "stream",
     "text": [
      "Training accuracy: 0.9195550084114075\n",
      "Training loss: 0.9244049191474915\n",
      "Validation accuracy: 0.9070995450019836\n",
      "Validation loss: 0.9406130313873291\n",
      "Epoch: 9\n"
     ]
    },
    {
     "name": "stderr",
     "output_type": "stream",
     "text": [
      "901it [02:02,  7.33it/s]\n"
     ]
    },
    {
     "name": "stdout",
     "output_type": "stream",
     "text": [
      "Training accuracy: 0.9200222492218018\n",
      "Training loss: 0.9223052859306335\n",
      "Validation accuracy: 0.9117140173912048\n",
      "Validation loss: 0.9363650679588318\n",
      "Split: 4\n"
     ]
    },
    {
     "name": "stderr",
     "output_type": "stream",
     "text": [
      "2it [00:00, 12.02it/s]"
     ]
    },
    {
     "name": "stdout",
     "output_type": "stream",
     "text": [
      "Epoch: 0\n"
     ]
    },
    {
     "name": "stderr",
     "output_type": "stream",
     "text": [
      "901it [02:00,  7.47it/s]\n",
      "0it [00:00, ?it/s]"
     ]
    },
    {
     "name": "stdout",
     "output_type": "stream",
     "text": [
      "Training accuracy: 0.5524805188179016\n",
      "Training loss: 1.4498342275619507\n",
      "Validation accuracy: 0.7145716547966003\n",
      "Validation loss: 1.2293505668640137\n",
      "Epoch: 1\n"
     ]
    },
    {
     "name": "stderr",
     "output_type": "stream",
     "text": [
      "901it [02:00,  7.47it/s]\n",
      "2it [00:00, 10.57it/s]"
     ]
    },
    {
     "name": "stdout",
     "output_type": "stream",
     "text": [
      "Training accuracy: 0.8174304962158203\n",
      "Training loss: 1.0263327360153198\n",
      "Validation accuracy: 0.803913950920105\n",
      "Validation loss: 1.0631372928619385\n",
      "Epoch: 2\n"
     ]
    },
    {
     "name": "stderr",
     "output_type": "stream",
     "text": [
      "901it [01:58,  7.62it/s]\n",
      "2it [00:00, 10.83it/s]"
     ]
    },
    {
     "name": "stdout",
     "output_type": "stream",
     "text": [
      "Training accuracy: 0.8377196788787842\n",
      "Training loss: 0.9858655333518982\n",
      "Validation accuracy: 0.8223717212677002\n",
      "Validation loss: 1.015085220336914\n",
      "Epoch: 3\n"
     ]
    },
    {
     "name": "stderr",
     "output_type": "stream",
     "text": [
      "901it [02:00,  7.50it/s]\n",
      "2it [00:00, 10.82it/s]"
     ]
    },
    {
     "name": "stdout",
     "output_type": "stream",
     "text": [
      "Training accuracy: 0.8444048762321472\n",
      "Training loss: 0.983432412147522\n",
      "Validation accuracy: 0.8303775191307068\n",
      "Validation loss: 1.0166418552398682\n",
      "Epoch: 4\n"
     ]
    },
    {
     "name": "stderr",
     "output_type": "stream",
     "text": [
      "901it [01:59,  7.56it/s]\n",
      "0it [00:00, ?it/s]"
     ]
    },
    {
     "name": "stdout",
     "output_type": "stream",
     "text": [
      "Training accuracy: 0.8453392386436462\n",
      "Training loss: 0.9715567231178284\n",
      "Validation accuracy: 0.8332128524780273\n",
      "Validation loss: 0.9959913492202759\n",
      "Epoch: 5\n"
     ]
    },
    {
     "name": "stderr",
     "output_type": "stream",
     "text": [
      "901it [01:59,  7.53it/s]\n",
      "0it [00:00, ?it/s]"
     ]
    },
    {
     "name": "stdout",
     "output_type": "stream",
     "text": [
      "Training accuracy: 0.854282557964325\n",
      "Training loss: 0.9617449641227722\n",
      "Validation accuracy: 0.8493912220001221\n",
      "Validation loss: 0.9794803261756897\n",
      "Epoch: 6\n"
     ]
    },
    {
     "name": "stderr",
     "output_type": "stream",
     "text": [
      "901it [02:06,  7.12it/s]\n",
      "2it [00:00, 12.61it/s]"
     ]
    },
    {
     "name": "stdout",
     "output_type": "stream",
     "text": [
      "Training accuracy: 0.8757174611091614\n",
      "Training loss: 0.951949417591095\n",
      "Validation accuracy: 0.8744648694992065\n",
      "Validation loss: 0.9639996290206909\n",
      "Epoch: 7\n"
     ]
    },
    {
     "name": "stderr",
     "output_type": "stream",
     "text": [
      "901it [02:00,  7.47it/s]\n",
      "0it [00:00, ?it/s]"
     ]
    },
    {
     "name": "stdout",
     "output_type": "stream",
     "text": [
      "Training accuracy: 0.887552797794342\n",
      "Training loss: 0.9466041326522827\n",
      "Validation accuracy: 0.8919775485992432\n",
      "Validation loss: 0.9579125046730042\n",
      "Epoch: 8\n"
     ]
    },
    {
     "name": "stderr",
     "output_type": "stream",
     "text": [
      "901it [02:09,  6.96it/s]\n",
      "0it [00:00, ?it/s]"
     ]
    },
    {
     "name": "stdout",
     "output_type": "stream",
     "text": [
      "Training accuracy: 0.8967742323875427\n",
      "Training loss: 0.9411112070083618\n",
      "Validation accuracy: 0.9009284377098083\n",
      "Validation loss: 0.9562973380088806\n",
      "Epoch: 9\n"
     ]
    },
    {
     "name": "stderr",
     "output_type": "stream",
     "text": [
      "901it [02:03,  7.29it/s]\n"
     ]
    },
    {
     "name": "stdout",
     "output_type": "stream",
     "text": [
      "Training accuracy: 0.901067852973938\n",
      "Training loss: 0.937191367149353\n",
      "Validation accuracy: 0.8982042670249939\n",
      "Validation loss: 0.9546306729316711\n"
     ]
    }
   ],
   "source": [
    "# Train data\n",
    "from sklearn.model_selection import KFold\n",
    "\n",
    "kf = KFold(n_splits=5, shuffle=True)\n",
    "\n",
    "cv_accuracy_val = []\n",
    "cv_loss_val = []\n",
    "\n",
    "split_num = 0\n",
    "for train_index, test_index in kf.split(X):\n",
    "    \n",
    "    # reset the network parameters\n",
    "    sess.run(init)\n",
    "    \n",
    "    print(\"Split: {}\".format(split_num))\n",
    "    split_num += 1\n",
    "    \n",
    "    X_train, X_test = X[train_index], X[test_index]\n",
    "    y_train, y_test = y[train_index], y[test_index]\n",
    "    \n",
    "    # around 2 minutes per epoch\n",
    "    for e in range(epochs):\n",
    "        print(\"Epoch: {}\".format(e))\n",
    "        pairs = zip(np.split(X, indices_or_sections=np.arange(0, len(X), batch_size)), \n",
    "                                    np.split(y, indices_or_sections=np.arange(0, len(X), batch_size)))\n",
    "        train_acc = []\n",
    "        train_loss = []\n",
    "        for batch_x, batch_y in tqdm(pairs):\n",
    "            if len(batch_x)==batch_size:\n",
    "                feed_dict = {train_inputs: batch_x, train_labels: batch_y}\n",
    "                _, train_l, train_a = sess.run([train_step, loss, acc], feed_dict=feed_dict)\n",
    "                train_acc.append(train_a)\n",
    "                train_loss.append(train_l)\n",
    "        \n",
    "        val_acc, val_loss = sess.run([acc, loss], feed_dict={train_inputs: X_test, train_labels: y_test})\n",
    "        \n",
    "        print(\"Training accuracy: {}\".format(np.mean(train_acc)))\n",
    "        print(\"Training loss: {}\".format(np.mean(train_loss)))\n",
    "        print(\"Validation accuracy: {}\".format(val_acc))\n",
    "        print(\"Validation loss: {}\".format(val_loss))\n",
    "    \n",
    "    cv_loss_val.append(val_loss)\n",
    "    cv_accuracy_val.append(val_acc)"
   ]
  },
  {
   "cell_type": "code",
   "execution_count": 8,
   "metadata": {
    "collapsed": false
   },
   "outputs": [
    {
     "name": "stdout",
     "output_type": "stream",
     "text": [
      "CV Accuracy: 0.9478184580802917\n",
      "CV Loss: 0.8965276479721069\n"
     ]
    }
   ],
   "source": [
    "print(\"CV Accuracy: {}\".format(np.mean(cv_loss_val)))\n",
    "print(\"CV Loss: {}\".format(np.mean(cv_accuracy_val)))"
   ]
  },
  {
   "cell_type": "code",
   "execution_count": 9,
   "metadata": {
    "collapsed": false,
    "scrolled": true
   },
   "outputs": [
    {
     "data": {
      "text/plain": [
       "'../models/10_class_1_layerconv_89%'"
      ]
     },
     "execution_count": 9,
     "metadata": {},
     "output_type": "execute_result"
    }
   ],
   "source": [
    "# Saved Model, DO NOT RERUN\n",
    "# save_dir = \"../models/\"\n",
    "# model_name = \"10_class_1_layerconv_89%\"\n",
    "# saver = tf.train.Saver()\n",
    "# saver.save(sess, save_dir+model_name)"
   ]
  },
  {
   "cell_type": "code",
   "execution_count": 5,
   "metadata": {
    "collapsed": false,
    "scrolled": true
   },
   "outputs": [
    {
     "name": "stdout",
     "output_type": "stream",
     "text": [
      "INFO:tensorflow:Restoring parameters from ../models/10_class_1_layerconv_89%\n"
     ]
    }
   ],
   "source": [
    "# restore model\n",
    "saver = tf.train.Saver()\n",
    "saver.restore(sess, \"../models/10_class_1_layerconv_89%\")"
   ]
  },
  {
   "cell_type": "code",
   "execution_count": 6,
   "metadata": {
    "collapsed": false
   },
   "outputs": [
    {
     "data": {
      "text/plain": [
       "[0.89899999, 0.95786172]"
      ]
     },
     "execution_count": 6,
     "metadata": {},
     "output_type": "execute_result"
    }
   ],
   "source": [
    "sess.run([acc, loss], feed_dict={train_inputs: X[:1000], train_labels: y[:1000]})"
   ]
  }
 ],
 "metadata": {
  "kernelspec": {
   "display_name": "Python [conda root]",
   "language": "python",
   "name": "conda-root-py"
  },
  "language_info": {
   "codemirror_mode": {
    "name": "ipython",
    "version": 3
   },
   "file_extension": ".py",
   "mimetype": "text/x-python",
   "name": "python",
   "nbconvert_exporter": "python",
   "pygments_lexer": "ipython3",
   "version": "3.5.2"
  }
 },
 "nbformat": 4,
 "nbformat_minor": 2
}
